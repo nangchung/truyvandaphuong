{
  "nbformat": 4,
  "nbformat_minor": 0,
  "metadata": {
    "colab": {
      "name": "boolean-3.ipynb",
      "provenance": [],
      "collapsed_sections": [],
      "mount_file_id": "1nAPfxpT5UfuX-atfMfnqEipT55-4-5bZ",
      "authorship_tag": "ABX9TyMg7VTZaDgSi0Wwm7oss2Jh",
      "include_colab_link": true
    },
    "kernelspec": {
      "name": "python3",
      "display_name": "Python 3"
    }
  },
  "cells": [
    {
      "cell_type": "markdown",
      "metadata": {
        "id": "view-in-github",
        "colab_type": "text"
      },
      "source": [
        "<a href=\"https://colab.research.google.com/github/nangchung/truyvandaphuong/blob/main/boolean_3.ipynb\" target=\"_parent\"><img src=\"https://colab.research.google.com/assets/colab-badge.svg\" alt=\"Open In Colab\"/></a>"
      ]
    },
    {
      "cell_type": "code",
      "metadata": {
        "id": "w62KRC97Lewl"
      },
      "source": [
        "import glob\n",
        "import numpy as np\n",
        "import re"
      ],
      "execution_count": 1,
      "outputs": []
    },
    {
      "cell_type": "code",
      "metadata": {
        "id": "uF9olOPwLlZs",
        "outputId": "389db2b0-d1c1-410b-e107-4f24261f4f9e",
        "colab": {
          "base_uri": "https://localhost:8080/",
          "height": 54
        }
      },
      "source": [
        "# Lay danh sach file txt trong thu muc data\n",
        "file_paths = glob.glob(\"/content/drive/My Drive/truy van da phuong/databai2/*.txt\")\n",
        "print(file_paths)\n"
      ],
      "execution_count": 3,
      "outputs": [
        {
          "output_type": "stream",
          "text": [
            "['/content/drive/My Drive/truy van da phuong/databai2/data2.txt', '/content/drive/My Drive/truy van da phuong/databai2/data1.txt', '/content/drive/My Drive/truy van da phuong/databai2/data5.txt', '/content/drive/My Drive/truy van da phuong/databai2/data3.txt', '/content/drive/My Drive/truy van da phuong/databai2/data4.txt']\n"
          ],
          "name": "stdout"
        }
      ]
    },
    {
      "cell_type": "markdown",
      "metadata": {
        "id": "BQ5ssffOdKh5"
      },
      "source": [
        "tạo tập từ điển"
      ]
    },
    {
      "cell_type": "code",
      "metadata": {
        "id": "zV7o0CVjLn6V",
        "outputId": "29803e26-079c-40ec-f5b2-9370a086769d",
        "colab": {
          "base_uri": "https://localhost:8080/",
          "height": 54
        }
      },
      "source": [
        "lst_contents = []\n",
        "dictionary = set()\n",
        "for file_path in file_paths:\n",
        "    f = open(file_path, 'r')\n",
        "    str = f.read()\n",
        "    # lst_contents.append(str)\n",
        "    words = str.replace('\"', '').replace('.', '').replace(\"'\",\"\").split()\n",
        "    \n",
        "    words = set(words)\n",
        "    lst_contents.append(words)\n",
        "    dictionary.update(words)\n",
        "    #print(words)\n",
        "    #print ('Noi dung file cua ban la:\\n', str)\n",
        "#print('Tap cac tu: ', dictionary)\n",
        "dictionary = list(dictionary)\n",
        "print(dictionary)"
      ],
      "execution_count": 10,
      "outputs": [
        {
          "output_type": "stream",
          "text": [
            "['trí', 'nhiên', 'khó', 'thậm', 'nay', 'mẫu', '6-1', 'thúc,', 'dám', 'CR7,', 'gia', 'những', 'ba', 'xóa', 'Barack', 'làng', 'rõ', 'Pirlo', 'Giữa', 'cảm', 'chức', 'cảiđưa', 'rating', 'tốt', 'tình', 'Nhưng,', 'dừng', 'tất', 'Khoảng', 'giả', 'Hậu', 'nguyên', 'thăng', 'không', 'bế', 'cỏ', 'gương', 'khép', 'vì', 'Liên', 'thiệu', 'điện', 'cuối', 'đội', 'cơ', 'Mà', 'Rio', 'hiệp', 'nổi', 'hoà', 'đoàn', 'vòng', 'Mọi', 'lại', 'xuất', 'mạnh', 'đầu', 'hiềm', 'định', 'mạnh,', 'Chuyện', 'cạn', 'năm', 'Paulo', 'Ấn', 'Thành:', 'cũng', 'chiếm', 'đại', 'binh', 'luống', 'Ban', 'chao', 'cần', 'Cules', 'lựa', 'niềm', 'Họ', 'hiểu', 'trước', 'chuyển', 'Dù', 'Bồ', 'đang', 'rối', 'đau', 'quân', 'đoạt', 'họ', 'nữa', 'FC', 'thì', 'sau', 'lãnh', 'Santos,', 'hot', 'tên', 'nhiệm', 'mà', 'viễn', 'trách', 'chán', 'Có', 'khán', 'bằng', 'diễn', 'chẽ', 'chí,', 'kiến', 'trở', 'nhàm', 'Nga', 'Như', 'trường,', 'khăn', 'minh', 'phần', 'và', 'Cận', 'cãi', '199854', 'rảnh', '33', 'lại,', 'sử', 'địch', 'hạn', 'la', 'Messi', '1930', 'Giáo', 'vai', 'doanh,', 'lai,', 'Thụy', 'Nha', 'thứ', 'bang', 'nghề', 'coi', 'nỗ', 'Didi', 'con', 'Roma', 'trang', 'sân', 'này', 'ghi', 'nọ', 'vẹn', 'trong', 'siêu', 'hoàng', 'tay', 'nhã', 'giải', 'tạt', 'Tại', 'Chủ', 'hạng', 'đăng', 'đến', 'nói:', '1-1', 'bộ', 'Janeiro', 'vô', 'cân', 'đồng,', 'hài', 'trò', 'truyền', 'trước,', 'đá', 'Giang', 'công', 'bộc', 'đảo', 'lầm', 'thao,', 'đều', 'thuận', 'Theo', 'khoa', 'hủy', 'vấn', 'bội', 'thông', 'ý', 'lần', 'hành', 'loạt', 'đây,', 'ngôi', 'sợ', 'ít', 'bảo:', 'gặp', 'Xui', 'chắc', 'chính', 'vật', 'già', 'bàn', 'dương', 'kiện', 'Donald', 'tiền', 'ủng', 'ra', 'bực', 'Alvaro', 'chỉ', 'sự', 'lỡ,', 'Trường', 'thể', 'City', 'khẳng', 'bài', 'phạm', 'đầu,', 'Trên', 'Độ', 'bất', 'tham', 'gỡ', 'raCụ', '1', 'thẻ', 'Mỗi', 'kỳ', 'rời', 'Tui', 'kinh', 'tịch', 'Leônidas', 'Niềm', 'thêm', 'Vào', '2-1', 'bẹp', 'lúc', 'báo', 'hòa', 'cái', 'bởi', 'bóngNếu', 'quần', 'Obama,', 'đi', 'khai', 'tại', 'tấn', 'ngờ', 'chấm', 'Luis', 'Thậm', 'cục', 'để', 'toàn,', 'người', 'đồn', 'cựu', 'càng', 'Santos', 'khí', 'lợi', 'áo', 'Nếu', 'tương', '4', 'Chuẩn', 'đó,', 'cánh', 'loại', 'Blaugrana', 'nam', 'chủ', 'đích', 'cấm,', 'mài', 'khảo', 'dữ', 'vụ', 'tuyển', 'bù', 'Tuy', 'phản', 'sản', 'liệt', 'trích', 'chán,', 'đem', 'trắng', 'Gates', 'biệt', 'cọ', 'Nhưng', 'rằng', '1,', 'sách', 'điều', 'chí', 'Vladimir', 'ngay', 'hùng', 'theo', 'phải,', 'thái', 'nghệ', 'xúc', 'với', 'nhưng', 'hiện', 'lực', 'vào', 'quả', 'Exeter', 'tờ', '1950,', 'tỷ', 'hoa,', 'gì', 'quan', 'Trung', 'miệt', 'này,', 'mình-', 'lượt', 'lặng', 'dù', 'thừa', 'tiên', 'Morata,', 'mình', 'Uruguay', 'cao', 'đo', 'Kết', 'mộ', 'hữu', 'đầy', 'phá', 'giá', 'Long', 'số', 'nhân', 'áo,', 'giới', 'không?Tỏ', 'cạnh', 'ghế', 'cặp', 'chứ', 'rất', 'đồng', 'mặt', 'từ', 'ngắn', 'Tất', 'các', 'Vòng', 'Trận', 'qua', '2-4', 'tổ', 'hồi', '1954', 'hậu', 'nóng,', 'Berne', 'bản', 'Olimpico', 'bẩn', 'đạo', 'đáng', 'động', 'bố,', 'Thủ', 'vị', 'chúng', 'Mới', 'tượng', 'Trấn', 'muốn', 'Giang,', 'thích', 'ngoạn', 'nguồn', 'hoàn', '1938', 'vĩnh', 'Bình,', 'đây', 'rạn', 'sàng', 'phú', 'Morata', 'chuyến', 'giác', 'quyết', 'Camp', 'cùng', 'đôi', 'sai', 'Bà', 'tra', 'ýĐồng', 'bén', 'dễ', 'vinh', 'giật', 'tiếng', 'trên', 'đấu', 'nên', 'Tây', 'Gates,', 'đong', 'dụ', 'cai', 'Màu', 'Narendra', 'đột', 'buổi', 'tày', 'đối', 'thua', 'Hương', 'lên', 'dìm', 'việc', 'hiện,', 'nâng', '1-2', 'về', 'phải', 'hơn', 'thay', 'bỏ', 'nhà', 'khiến', 'Đặc', 'học,', 'luôn', 'Barcelona', 'thỉu', 'bên', 'đúc', 'nhận', 'thi', 'đâu', 'Điển', 'kê', 'tứ', 'hè', 'mục,', 'toàn', 'trả', 'lập', 'Argentina', 'ban', 'BXH', 'tự', 'im', 'khích', 'Việt', 'thủ', 'Silva', 'tập', 'giám', 'ngày', 'lấy', 'tâm', '2–0', 'Trong', 'cả', '7-1', 'ở', 'phong', 'Jordan', 'sĩ', 'khung', 'buộc', '15', 'thời', 'như', 'cho', 'tỏa', 'Đội', 'diệt,', 'thống', 'ảnh', 'viết', 'tít,', 'đón', 'kết,', '2', 'Rất', '3,', 'có,', 'xứng', 'Cristiano', 'kịp', 'xem', 'lịch', 'hộ', 'Sport', 'Maracanazo', 'Thành', 'hội', 'You', 'đẹp', 'nhiều', 'ngồi', 'sắc', 'phùng', 'kể', 'chửi', 'đàn', 'tròn', 'xin', 'tuổi', 'Andrea', '44,', 'tải', 'hình', 'nhục', 'tui', 'Bill', 'mùa', 'một', 'Veretout', 'nằm', 'vui', 'may', 'chữ', 'Rốt', 'chương', 'đứng', 'đỏ', 'phỏng', '(chỉ', 'đặc', '2-2', 'Lionel', 'chẳng', 'của', 'Brasil', 'được', 'nhuận', 'vận', 'Thành,', 'bao', 'máu', 'còn', 'vệ', 'mực', 'chuyện', 'tướng', 'yêu', 'nhiên,', 'mọi', '69,', 'bật', 'quá', 'São', 'hai', 'xem)', 'giao', 'tăm', 'thấy', 'tiện', '1934,', 'sẵn', 'chọn', 'tiến', 'thực', 'sóng', 'lành', 'hảo', 'rồi', 'da', 'đặt', 'mới', 'danh', 'chấp', 'kịch', 'chặt', '31,', 'nếu', 'HLV', 'làm', 'có', 'de', 'ưu', 'vượt', 'Barcelona,', 'gian', 'ngưỡng', 'ó', 'cuộc', 'đánh', 'tan', 'khấu,', 'trình', 'phút', 'xếp', 'lá', 'đó', 'túc', 'khi', 'tựa', 'Pope', 'Mỹ', 'nào', 'vẫn', 'sẻ:', 'kết', '5', 'sáng', 'phía', 'đền', 'cầm', 'thiệt,', 'Ronaldo', 'giữa', 'là', 'Không', 'Nou', 'xảy', 'sẽ', 'chung', 'Sĩ,', 'chia', 'nghĩ', 'nhòa', 'bóng', 'tầm', 'chạm', 'nhất', 'Cup', 'Riết', 'lớn', 'Microsoft', 'Giải', 'chiến', 'trận', 'trùm', 'cách', 'nào,', 'Blogtamsu', 'chỗ', 'bạchCòn', 'Tổng', 'đúp,', 'vừa', 'Juventus', 'giờ', 'độ', 'hưởng', 'tính', 'Nghệ', 'hot,', 'World', 'mở', 'quốc', 'đã', 'riêng', 'tục', 'họp', 'Chiến', 'đè', 'Cảm', 'yếu', 'Obama', 'nơi', 'hàng', 'gây', 'ràng', 'Trước', 'nhượng', 'loạn', 'buồn', 'văn', 'gồm', 'hay', 'tiếp', 'tắc', 'tranh', 'Thách', 'mạng', 'Nhiều', 'cú', 'ví', 'thức', 'bầu', '62', 'phục', 'thành', 'phạt', 'AS', 'ai', 'đếm', 'cầu', 'mặc', 'đầm', 'dân', 'Modi', 'gang', 'Bản', 'Rabiot', 'bị', 'hôm', 'lời', 'Brazil', 'xanh', 'thế', 'vậy', 'mẽ', 'tân', 'Tập', 'Nilton', 'anh', '8', 'hướng', 'đề', 'nhàKhông', 'FrancisChỉ', 'Putin,', 'Nam', 'Hari', 'thân', 'Djalma', 'hợp', 'cắt', '1914', 'Trump', 'biết', 'Khi', 'nói', 'bảng', 'viên', 'Phút', 'Sau', 'Gov,', 'tôi', 'ngạc', 'dứt', 'pha', 'ông', 'điểm', 'Hungary', 'Maracanã', 'dội', 'tin', 'dậy', 'sao', 'nứt', 'Đào', 'Tôi', 'Suarez', 'vàng', 'top', 'tháng', 'bạn', 'chân', 'tạo', 'thắng', 'dùng', 'Quốc']\n"
          ],
          "name": "stdout"
        }
      ]
    },
    {
      "cell_type": "markdown",
      "metadata": {
        "id": "teZ_9PS6dNV_"
      },
      "source": [
        "tìm văn bản có chứa từ đó"
      ]
    },
    {
      "cell_type": "code",
      "metadata": {
        "id": "05s2lt1sLq9r",
        "outputId": "c0113011-15a1-43a7-9440-50a64de1d0c9",
        "colab": {
          "base_uri": "https://localhost:8080/",
          "height": 54
        }
      },
      "source": [
        "inv_files = dict()\n",
        "for k,word in enumerate(dictionary):\n",
        "    inv_files[word] = set()\n",
        "    for i,content in enumerate(lst_contents):\n",
        "        if word in content:\n",
        "            inv_files[word].add(i)\n",
        "            #print(word,\"    \",content)\n",
        "print(inv_files)\n"
      ],
      "execution_count": 9,
      "outputs": [
        {
          "output_type": "stream",
          "text": [
            "{'trí': {0, 4}, 'nhiên': {2, 3}, 'khó': {1, 4}, 'thậm': {0}, 'nay': {3}, 'mẫu': {1}, '6-1': {3}, 'thúc,': {3}, 'dám': {2}, 'CR7,': {1}, 'gia': {2, 3}, 'những': {0, 1, 2, 3, 4}, 'ba': {3}, 'xóa': {2, 3}, 'Barack': {0}, 'làng': {0}, 'rõ': {0, 2, 4}, 'Pirlo': {1}, 'Giữa': {1}, 'cảm': {2}, 'chức': {1, 3}, 'cảiđưa': {2}, 'rating': {2}, 'tốt': {0, 3, 4}, 'tình': {2, 4}, 'Nhưng,': {2}, 'dừng': {4}, 'tất': {1, 3, 4}, 'Khoảng': {1}, 'giả': {3}, 'Hậu': {1}, 'nguyên': {3}, 'thăng': {1}, 'không': {1, 2, 3}, 'bế': {1}, 'cỏ': {0}, 'gương': {2}, 'khép': {1}, 'vì': {2, 3, 4}, 'Liên': {3}, 'thiệu': {2}, 'điện': {0}, 'cuối': {4}, 'đội': {1, 3, 4}, 'cơ': {1}, 'Mà': {2}, 'Rio': {3}, 'hiệp': {1, 3}, 'nổi': {2, 4}, 'hoà': {3}, 'đoàn': {0, 3, 4}, 'vòng': {1, 3}, 'Mọi': {1}, 'lại': {1, 2, 4}, 'xuất': {2}, 'mạnh': {4}, 'đầu': {1, 3}, 'hiềm': {3}, 'định': {1, 2, 4}, 'mạnh,': {2}, 'Chuyện': {2}, 'cạn': {4}, 'năm': {0, 3}, 'Paulo': {3}, 'Ấn': {0}, 'Thành:': {2}, 'cũng': {1, 2, 4}, 'chiếm': {3}, 'đại': {1}, 'binh': {1}, 'luống': {0}, 'Ban': {3}, 'chao': {1}, 'cần': {3}, 'Cules': {4}, 'lựa': {2}, 'niềm': {1}, 'Họ': {2}, 'hiểu': {2}, 'trước': {1, 3, 4}, 'chuyển': {4}, 'Dù': {0}, 'Bồ': {1}, 'đang': {2, 3}, 'rối': {2}, 'đau': {3}, 'quân': {1, 4}, 'đoạt': {3}, 'họ': {0, 2}, 'nữa': {2}, 'FC': {3}, 'thì': {3}, 'sau': {1, 3, 4}, 'lãnh': {4}, 'Santos,': {3}, 'hot': {2}, 'tên': {2, 3}, 'nhiệm': {1, 4}, 'mà': {2, 3}, 'viễn': {3}, 'trách': {4}, 'chán': {2}, 'Có': {2}, 'khán': {3}, 'bằng': {3}, 'diễn': {0, 2}, 'chẽ': {1}, 'chí,': {4}, 'kiến': {3}, 'trở': {1, 3, 4}, 'nhàm': {2}, 'Nga': {0}, 'Như': {2}, 'trường,': {0}, 'khăn': {1}, 'minh': {2}, 'phần': {3}, 'và': {0, 1, 2, 3, 4}, 'Cận': {0}, 'cãi': {3}, '199854': {3}, 'rảnh': {2}, '33': {4}, 'lại,': {1}, 'sử': {3}, 'địch': {0, 3}, 'hạn': {2}, 'la': {2}, 'Messi': {0, 4}, '1930': {3}, 'Giáo': {0}, 'vai': {2}, 'doanh,': {2}, 'lai,': {3}, 'Thụy': {3}, 'Nha': {1, 3}, 'thứ': {0, 3}, 'bang': {3}, 'nghề': {3}, 'coi': {2, 3}, 'nỗ': {1}, 'Didi': {3}, 'con': {2}, 'Roma': {1}, 'trang': {3}, 'sân': {0, 1, 2, 3, 4}, 'này': {3}, 'ghi': {1, 3}, 'nọ': {2}, 'vẹn': {3}, 'trong': {0, 1, 2, 3}, 'siêu': {1, 4}, 'hoàng': {0}, 'tay': {1, 3}, 'nhã': {3}, 'giải': {3, 4}, 'tạt': {1}, 'Tại': {3}, 'Chủ': {0}, 'hạng': {3}, 'đăng': {2, 3, 4}, 'đến': {1, 2, 3}, 'nói:': {2}, '1-1': {1, 3}, 'bộ': {1, 2}, 'Janeiro': {3}, 'vô': {1, 3}, 'cân': {2}, 'đồng,': {4}, 'hài': {2}, 'trò': {2}, 'truyền': {2}, 'trước,': {3}, 'đá': {0, 1, 3}, 'Giang': {2}, 'công': {0, 1, 4}, 'bộc': {2}, 'đảo': {1}, 'lầm': {4}, 'thao,': {0}, 'đều': {2}, 'thuận': {2}, 'Theo': {0, 2}, 'khoa': {1}, 'hủy': {3}, 'vấn': {3, 4}, 'bội': {2}, 'thông': {2}, 'ý': {3}, 'lần': {2, 3}, 'hành': {1}, 'loạt': {0}, 'đây,': {2, 4}, 'ngôi': {1}, 'sợ': {2}, 'ít': {4}, 'bảo:': {2}, 'gặp': {2}, 'Xui': {2}, 'chắc': {3}, 'chính': {4}, 'vật': {0}, 'già': {1}, 'bàn': {1, 3}, 'dương': {3}, 'kiện': {1, 4}, 'Donald': {0}, 'tiền': {4}, 'ủng': {4}, 'ra': {2, 3, 4}, 'bực': {2}, 'Alvaro': {1}, 'chỉ': {1, 2, 3, 4}, 'sự': {2, 3, 4}, 'lỡ,': {1}, 'Trường': {2}, 'thể': {0, 1, 2, 3}, 'City': {3}, 'khẳng': {4}, 'bài': {2}, 'phạm': {4}, 'đầu,': {0, 4}, 'Trên': {0}, 'Độ': {0}, 'bất': {3, 4}, 'tham': {2}, 'gỡ': {1}, 'raCụ': {2}, '1': {3, 4}, 'thẻ': {1}, 'Mỗi': {2}, 'kỳ': {0, 4}, 'rời': {4}, 'Tui': {2}, 'kinh': {2}, 'tịch': {0}, 'Leônidas': {3}, 'Niềm': {1}, 'thêm': {4}, 'Vào': {1}, '2-1': {1}, 'bẹp': {3}, 'lúc': {1, 2}, 'báo': {2}, 'hòa': {1, 3}, 'cái': {2}, 'bởi': {4}, 'bóngNếu': {4}, 'quần': {3}, 'Obama,': {0}, 'đi': {2, 4}, 'khai': {4}, 'tại': {3, 4}, 'tấn': {1}, 'ngờ': {3}, 'chấm': {1, 4}, 'Luis': {4}, 'Thậm': {4}, 'cục': {1}, 'để': {1, 2, 3, 4}, 'toàn,': {3}, 'người': {0, 1, 2, 3, 4}, 'đồn': {2}, 'cựu': {0}, 'càng': {1}, 'Santos': {3}, 'khí': {3}, 'lợi': {2}, 'áo': {3}, 'Nếu': {2}, 'tương': {3}, '4': {3}, 'Chuẩn': {3}, 'đó,': {2, 3, 4}, 'cánh': {1}, 'loại': {3}, 'Blaugrana': {4}, 'nam': {0}, 'chủ': {1}, 'đích': {1}, 'cấm,': {1}, 'mài': {1}, 'khảo': {2}, 'dữ': {1}, 'vụ': {1}, 'tuyển': {3}, 'bù': {1}, 'Tuy': {0, 1, 3, 4}, 'phản': {1, 4}, 'sản': {2}, 'liệt': {2}, 'trích': {3, 4}, 'chán,': {2}, 'đem': {2}, 'trắng': {3}, 'Gates': {0}, 'biệt': {3}, 'cọ': {3}, 'Nhưng': {2, 3, 4}, 'rằng': {4}, '1,': {1}, 'sách': {4}, 'điều': {0, 1, 2, 4}, 'chí': {0}, 'Vladimir': {0}, 'ngay': {3}, 'hùng': {1}, 'theo': {0}, 'phải,': {1}, 'thái': {2}, 'nghệ': {2}, 'xúc': {4}, 'với': {0, 1, 2, 3, 4}, 'nhưng': {0, 1, 2, 3}, 'hiện': {1, 2, 3, 4}, 'lực': {1}, 'vào': {3, 4}, 'quả': {0, 1, 3}, 'Exeter': {3}, 'tờ': {4}, '1950,': {3}, 'tỷ': {0, 1}, 'hoa,': {1}, 'gì': {2, 3, 4}, 'quan': {2}, 'Trung': {0}, 'miệt': {1}, 'này,': {2}, 'mình-': {2}, 'lượt': {3}, 'lặng': {3}, 'dù': {3}, 'thừa': {4}, 'tiên': {3, 4}, 'Morata,': {1}, 'mình': {2, 4}, 'Uruguay': {3}, 'cao': {1, 2}, 'đo': {2}, 'Kết': {3}, 'mộ': {0}, 'hữu': {3}, 'đầy': {1}, 'phá': {1}, 'giá': {3}, 'Long': {0}, 'số': {1, 2, 4}, 'nhân': {0}, 'áo,': {3}, 'giới': {0, 2, 3, 4}, 'không?Tỏ': {2}, 'cạnh': {2}, 'ghế': {2}, 'cặp': {0, 1}, 'chứ': {2}, 'rất': {0, 2}, 'đồng': {3, 4}, 'mặt': {0, 2}, 'từ': {1, 3}, 'ngắn': {1}, 'Tất': {4}, 'các': {2, 3, 4}, 'Vòng': {3}, 'Trận': {1, 3}, 'qua': {0}, '2-4': {3}, 'tổ': {1}, 'hồi': {4}, '1954': {3}, 'hậu': {0, 3}, 'nóng,': {2}, 'Berne': {3}, 'bản': {2, 4}, 'Olimpico': {1}, 'bẩn': {3}, 'đạo': {4}, 'đáng': {0}, 'động': {0, 3}, 'bố,': {0}, 'Thủ': {0}, 'vị': {0, 4}, 'chúng': {2}, 'Mới': {2}, 'tượng': {3}, 'Trấn': {2}, 'muốn': {2, 4}, 'Giang,': {2}, 'thích': {0}, 'ngoạn': {3}, 'nguồn': {4}, 'hoàn': {0, 1, 3}, '1938': {3}, 'vĩnh': {3}, 'Bình,': {0}, 'đây': {2}, 'rạn': {2}, 'sàng': {4}, 'phú': {0}, 'Morata': {1}, 'chuyến': {1}, 'giác': {2}, 'quyết': {1, 2}, 'Camp': {4}, 'cùng': {2, 4}, 'đôi': {1}, 'sai': {4}, 'Bà': {1}, 'tra': {0}, 'ýĐồng': {2}, 'bén': {1}, 'dễ': {4}, 'vinh': {0}, 'giật': {2}, 'tiếng': {0}, 'trên': {0, 1, 2}, 'đấu': {1, 3}, 'nên': {1, 2, 4}, 'Tây': {3}, 'Gates,': {0}, 'đong': {2}, 'dụ': {2}, 'cai': {3}, 'Màu': {3}, 'Narendra': {0}, 'đột': {1}, 'buổi': {2}, 'tày': {1}, 'đối': {4}, 'thua': {3}, 'Hương': {2}, 'lên': {1, 4}, 'dìm': {2}, 'việc': {0, 4}, 'hiện,': {2}, 'nâng': {1}, '1-2': {3}, 'về': {2, 3, 4}, 'phải': {2, 4}, 'hơn': {0, 1, 2, 4}, 'thay': {2, 3}, 'bỏ': {1, 3}, 'nhà': {1, 2, 3}, 'khiến': {1, 4}, 'Đặc': {3}, 'học,': {1}, 'luôn': {4}, 'Barcelona': {4}, 'thỉu': {3}, 'bên': {1, 3}, 'đúc': {2}, 'nhận': {1, 4}, 'thi': {1, 3}, 'đâu': {2}, 'Điển': {3}, 'kê': {2}, 'tứ': {3}, 'hè': {4}, 'mục,': {3}, 'toàn': {0}, 'trả': {4}, 'lập': {3}, 'Argentina': {4}, 'ban': {3, 4}, 'BXH': {0}, 'tự': {2}, 'im': {3}, 'khích': {3}, 'Việt': {2}, 'thủ': {0, 1, 3, 4}, 'Silva': {3}, 'tập': {0}, 'giám': {2}, 'ngày': {1, 3}, 'lấy': {2, 3}, 'tâm': {2}, '2–0': {3}, 'Trong': {2}, 'cả': {2, 3, 4}, '7-1': {3}, 'ở': {0, 1, 2, 4}, 'phong': {0, 3}, 'Jordan': {1}, 'sĩ': {2}, 'khung': {1}, 'buộc': {4}, '15': {2}, 'thời': {1, 4}, 'như': {0, 2, 3, 4}, 'cho': {1, 2, 3, 4}, 'tỏa': {1}, 'Đội': {3}, 'diệt,': {3}, 'thống': {0}, 'ảnh': {0}, 'viết': {2}, 'tít,': {2}, 'đón': {1}, 'kết,': {3}, '2': {0}, 'Rất': {1}, '3,': {2}, 'có,': {4}, 'xứng': {0}, 'Cristiano': {0, 1}, 'kịp': {1}, 'xem': {2, 3}, 'lịch': {3}, 'hộ': {4}, 'Sport': {4}, 'Maracanazo': {3}, 'Thành': {0, 2}, 'hội': {1, 3}, 'You': {0}, 'đẹp': {4}, 'nhiều': {0, 2, 3}, 'ngồi': {2}, 'sắc': {1}, 'phùng': {0}, 'kể': {2}, 'chửi': {2}, 'đàn': {0, 4}, 'tròn': {3}, 'xin': {4}, 'tuổi': {0, 4}, 'Andrea': {1}, '44,': {1}, 'tải': {2}, 'hình': {2}, 'nhục': {3}, 'tui': {2}, 'Bill': {0}, 'mùa': {2, 4}, 'một': {2, 3, 4}, 'Veretout': {1}, 'nằm': {0}, 'vui': {1}, 'may': {1}, 'chữ': {2}, 'Rốt': {1}, 'chương': {2}, 'đứng': {0, 3}, 'đỏ': {1}, 'phỏng': {4}, '(chỉ': {2}, 'đặc': {3}, '2-2': {1}, 'Lionel': {4}, 'chẳng': {1, 2}, 'của': {0, 1, 2, 3, 4}, 'Brasil': {3}, 'được': {0, 1, 2, 3, 4}, 'nhuận': {2}, 'vận': {0, 3}, 'Thành,': {2}, 'bao': {2, 3}, 'máu': {3}, 'còn': {0, 1, 2, 3, 4}, 'vệ': {1}, 'mực': {1}, 'chuyện': {1, 4}, 'tướng': {0}, 'yêu': {0, 4}, 'nhiên,': {0, 1, 4}, 'mọi': {2, 4}, '69,': {1}, 'bật': {1}, 'quá': {2}, 'São': {3}, 'hai': {1, 2, 3}, 'xem)': {2}, 'giao': {3}, 'tăm': {0}, 'thấy': {2}, 'tiện': {2}, '1934,': {3}, 'sẵn': {4}, 'chọn': {2}, 'tiến': {2}, 'thực': {1, 4}, 'sóng': {4}, 'lành': {2}, 'hảo': {3}, 'rồi': {2}, 'da': {3}, 'đặt': {3, 4}, 'mới': {0, 3, 4}, 'danh': {0, 2}, 'chấp': {4}, 'kịch': {2}, 'chặt': {1}, '31,': {1}, 'nếu': {0, 4}, 'HLV': {1}, 'làm': {2, 3, 4}, 'có': {0, 2, 3, 4}, 'de': {3}, 'ưu': {4}, 'vượt': {0}, 'Barcelona,': {4}, 'gian': {1}, 'ngưỡng': {0}, 'ó': {2}, 'cuộc': {4}, 'đánh': {1, 3}, 'tan': {2}, 'khấu,': {2}, 'trình': {2}, 'phút': {1}, 'xếp': {0, 1}, 'lá': {2}, 'đó': {3, 4}, 'túc': {4}, 'khi': {1, 2, 3, 4}, 'tựa': {2}, 'Pope': {0}, 'Mỹ': {0, 3}, 'nào': {2}, 'vẫn': {0, 3, 4}, 'sẻ:': {2}, 'kết': {0, 2, 3, 4}, '5': {0, 2}, 'sáng': {1}, 'phía': {1, 4}, 'đền': {1}, 'cầm': {3}, 'thiệt,': {2}, 'Ronaldo': {0, 1}, 'giữa': {2, 3}, 'là': {0, 2, 3, 4}, 'Không': {3, 4}, 'Nou': {4}, 'xảy': {4}, 'sẽ': {2}, 'chung': {2, 3}, 'Sĩ,': {3}, 'chia': {1, 2}, 'nghĩ': {2}, 'nhòa': {3}, 'bóng': {0, 1, 3, 4}, 'tầm': {0}, 'chạm': {1}, 'nhất': {0, 2, 3, 4}, 'Cup': {3}, 'Riết': {2}, 'lớn': {0, 3}, 'Microsoft': {0}, 'Giải': {3}, 'chiến': {1, 3}, 'trận': {3}, 'trùm': {3}, 'cách': {2, 4}, 'nào,': {4}, 'Blogtamsu': {2}, 'chỗ': {2}, 'bạchCòn': {2}, 'Tổng': {0}, 'đúp,': {1}, 'vừa': {0, 4}, 'Juventus': {1}, 'giờ': {1, 2}, 'độ': {0, 2, 3}, 'hưởng': {0, 1}, 'tính': {0}, 'Nghệ': {2}, 'hot,': {2}, 'World': {3}, 'mở': {1}, 'quốc': {3}, 'đã': {0, 1, 3, 4}, 'riêng': {0}, 'tục': {4}, 'họp': {2}, 'Chiến': {3}, 'đè': {3}, 'Cảm': {2}, 'yếu': {2}, 'Obama': {0}, 'nơi': {0}, 'hàng': {0, 1, 4}, 'gây': {2, 4}, 'ràng': {0, 4}, 'Trước': {4}, 'nhượng': {4}, 'loạn': {4}, 'buồn': {3}, 'văn': {2}, 'gồm': {3}, 'hay': {0, 2}, 'tiếp': {4}, 'tắc': {1}, 'tranh': {2, 3}, 'Thách': {2}, 'mạng': {2}, 'Nhiều': {2}, 'cú': {1}, 'ví': {2}, 'thức': {2}, 'bầu': {3}, '62': {1}, 'phục': {3}, 'thành': {1, 3}, 'phạt': {1}, 'AS': {1}, 'ai': {4}, 'đếm': {2}, 'cầu': {3, 4}, 'mặc': {3}, 'đầm': {1}, 'dân': {3}, 'Modi': {0}, 'gang': {1}, 'Bản': {2}, 'Rabiot': {1}, 'bị': {1, 2, 3, 4}, 'hôm': {3}, 'lời': {4}, 'Brazil': {3}, 'xanh': {3}, 'thế': {0, 2, 3, 4}, 'vậy': {2, 3, 4}, 'mẽ': {4}, 'tân': {1}, 'Tập': {0}, 'Nilton': {3}, 'anh': {2}, '8': {4}, 'hướng': {4}, 'đề': {2, 3}, 'nhàKhông': {1}, 'FrancisChỉ': {0}, 'Putin,': {0}, 'Nam': {3}, 'Hari': {2}, 'thân': {1, 2, 4}, 'Djalma': {3}, 'hợp': {4}, 'cắt': {1}, '1914': {3}, 'Trump': {0}, 'biết': {2}, 'Khi': {2}, 'nói': {2}, 'bảng': {3}, 'viên': {0}, 'Phút': {1}, 'Sau': {3, 4}, 'Gov,': {0}, 'tôi': {2, 4}, 'ngạc': {2}, 'dứt': {4}, 'pha': {1}, 'ông': {0}, 'điểm': {2, 4}, 'Hungary': {3}, 'Maracanã': {3}, 'dội': {1}, 'tin': {2, 4}, 'dậy': {4}, 'sao': {1, 4}, 'nứt': {2}, 'Đào': {1}, 'Tôi': {4}, 'Suarez': {4}, 'vàng': {3}, 'top': {0}, 'tháng': {4}, 'bạn': {2}, 'chân': {3}, 'tạo': {1}, 'thắng': {1, 3}, 'dùng': {3}, 'Quốc': {0}}\n"
          ],
          "name": "stdout"
        }
      ]
    },
    {
      "cell_type": "markdown",
      "metadata": {
        "id": "xYLpK0bNdY8Q"
      },
      "source": [
        "phân tích câu truy vấn"
      ]
    },
    {
      "cell_type": "code",
      "metadata": {
        "id": "CCPYzFh4LtST",
        "outputId": "1abd44f6-86d3-4182-d892-17bb8e58fe6c",
        "colab": {
          "base_uri": "https://localhost:8080/",
          "height": 50
        }
      },
      "source": [
        "# BUOC 3: Nhập câu truy vấn và phân tách từ truy vấn\n",
        "#query = '\"ronaldo\" AND \"brasil\"'\n",
        "#câu truy vấn trên của thầy ra kết quả rỗng nên em thay bằng câu khác cho nó có kết quả \n",
        "query = '\"Suarez\" AND \"Messi\" OR \"dám\" AND NOT \"ba\" XOR NOT \"nhiên\"'\n",
        "query_words = re.findall('\"(\\w+)\"', query)\n",
        "key = re.findall('(\\w+)', query)\n",
        "print(query_words)\n",
        "print(key)"
      ],
      "execution_count": 138,
      "outputs": [
        {
          "output_type": "stream",
          "text": [
            "['Suarez', 'Messi', 'dám', 'ba', 'nhiên']\n",
            "['Suarez', 'AND', 'Messi', 'OR', 'dám', 'AND', 'NOT', 'ba', 'XOR', 'NOT', 'nhiên']\n"
          ],
          "name": "stdout"
        }
      ]
    },
    {
      "cell_type": "markdown",
      "metadata": {
        "id": "HnZWfw7_dbxl"
      },
      "source": [
        "hàm tìm ra từ và văn bản chứa từ "
      ]
    },
    {
      "cell_type": "code",
      "metadata": {
        "id": "OIFyj8qOLxwo"
      },
      "source": [
        "def taphopchuatu(query_word):\n",
        "  if query_word in query_words:\n",
        "      # tra vi tri cua query_word trong dictionary\n",
        "      try:\n",
        "          s = inv_files[query_word]\n",
        "          return s\n",
        "          #print('Tap hop van ban chua tu ', query_word, ' la: ', S)\n",
        "      except:\n",
        "          pass"
      ],
      "execution_count": 16,
      "outputs": []
    },
    {
      "cell_type": "markdown",
      "metadata": {
        "id": "CUzpHOw-diOG"
      },
      "source": [
        "sử lý các phép luận lý: có 4 phép luận lý"
      ]
    },
    {
      "cell_type": "code",
      "metadata": {
        "id": "oNEyns_HNFRs"
      },
      "source": [
        "def AND(x,y):\n",
        "  t = list()\n",
        "  for i in x:\n",
        "    if i in y:\n",
        "      t.append(i)\n",
        "    else:\n",
        "      pass\n",
        "  t = set(t)\n",
        "  return t"
      ],
      "execution_count": 131,
      "outputs": []
    },
    {
      "cell_type": "code",
      "metadata": {
        "id": "aeqh_sVJTEAO"
      },
      "source": [
        "def OR(x,y):\n",
        "  t = list()\n",
        "  for i in x:\n",
        "    t.append(i)\n",
        "  for j in y:\n",
        "    t.append(j)\n",
        "  t = set(t)\n",
        "  return t"
      ],
      "execution_count": 117,
      "outputs": []
    },
    {
      "cell_type": "code",
      "metadata": {
        "id": "rZmmbV_dTEXm"
      },
      "source": [
        "def XOR(x,y):\n",
        "  t = list()\n",
        "  for i in x:\n",
        "    if i not in y:\n",
        "      t.append(i)\n",
        "    else:\n",
        "      pass\n",
        "  for j in y:\n",
        "    if j not in x:\n",
        "      t.append(j)\n",
        "    else:\n",
        "      pass\n",
        "  t = set(t)\n",
        "  return t"
      ],
      "execution_count": 88,
      "outputs": []
    },
    {
      "cell_type": "code",
      "metadata": {
        "id": "5dX0bCT0TEnC"
      },
      "source": [
        "def NOT(x):\n",
        "  t = list()\n",
        "  for i in range(len(file_paths)):\n",
        "    if i not in x:\n",
        "      t.append(i)\n",
        "  t = set(t)\n",
        "  return t"
      ],
      "execution_count": 89,
      "outputs": []
    },
    {
      "cell_type": "markdown",
      "metadata": {
        "id": "sRm7PQFsdo9e"
      },
      "source": [
        "truy vấn"
      ]
    },
    {
      "cell_type": "code",
      "metadata": {
        "id": "lzpkMryfW0cg",
        "outputId": "6005a987-dec3-474c-e7ed-b61d12e1bc84",
        "colab": {
          "base_uri": "https://localhost:8080/",
          "height": 34
        }
      },
      "source": [
        "#gán kết quả bằng từ truy vấn đầu tiên\n",
        "kq=set()\n",
        "if key[0] == \"NOT\":\n",
        "  kq = NOT(taphopchuatu(key[1]))\n",
        "else:\n",
        "  kq = taphopchuatu(key[0])\n",
        "# dùng vòng for truy vấn từ word đầu tiên đến hết câu truy vấn\n",
        "for i in range(len(key)):\n",
        "  if key[i] in query_words:  #bỏ qua nếu là từ truy vấn\n",
        "   pass\n",
        "  if key[i]==\"NOT\":          # bỏ qua nếu biểu thức luận lý là NOT vì đã sử lý bên dưới\n",
        "    pass\n",
        "# đoạn sử lý các biểu thức logic trong câu truy vấn\n",
        "  if key[i]==\"AND\":\n",
        "    if key[i+1]==\"NOT\":\n",
        "      kq = AND(kq,NOT(taphopchuatu(key[i+2])))\n",
        "    else:\n",
        "      kq = AND(kq,taphopchuatu(key[i+1]))\n",
        "  if key[i]==\"OR\":\n",
        "    if key[i+1]==\"NOT\":\n",
        "      kq = OR(kq,NOT(taphopchuatu(key[i+2])))\n",
        "    else:\n",
        "      kq = OR(kq,taphopchuatu(key[i+1]))\n",
        "  if key[i]==\"XOR\":\n",
        "    if key[i+1]==\"NOT\":\n",
        "      kq = XOR(kq,NOT(taphopchuatu(key[i+2])))\n",
        "    else:\n",
        "      kq = XOR(kq,taphopchuatu(key[i+1]))\n",
        "\n",
        "print(\"các văn bản thỏa mã với câu truy vấn là \" ,kq)"
      ],
      "execution_count": 140,
      "outputs": [
        {
          "output_type": "stream",
          "text": [
            "các văn bản thỏa mã với câu truy vấn là  {0, 1, 2}\n"
          ],
          "name": "stdout"
        }
      ]
    },
    {
      "cell_type": "markdown",
      "metadata": {
        "id": "32Z3RSkseCEF"
      },
      "source": [
        "hiển thị lên văn bản chứa kết quả tìm được"
      ]
    },
    {
      "cell_type": "code",
      "metadata": {
        "id": "D6s6g6cqd0qK",
        "outputId": "da8c8e00-6031-46d7-efe2-354eb1ccf49f",
        "colab": {
          "base_uri": "https://localhost:8080/",
          "height": 67
        }
      },
      "source": [
        "for i in kq:\n",
        "  print(file_paths[i])"
      ],
      "execution_count": 142,
      "outputs": [
        {
          "output_type": "stream",
          "text": [
            "/content/drive/My Drive/truy van da phuong/databai2/data2.txt\n",
            "/content/drive/My Drive/truy van da phuong/databai2/data1.txt\n",
            "/content/drive/My Drive/truy van da phuong/databai2/data5.txt\n"
          ],
          "name": "stdout"
        }
      ]
    }
  ]
}