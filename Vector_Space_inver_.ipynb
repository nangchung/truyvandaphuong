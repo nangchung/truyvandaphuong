{
  "nbformat": 4,
  "nbformat_minor": 0,
  "metadata": {
    "kernelspec": {
      "display_name": "Python 3",
      "language": "python",
      "name": "python3"
    },
    "language_info": {
      "codemirror_mode": {
        "name": "ipython",
        "version": 3
      },
      "file_extension": ".py",
      "mimetype": "text/x-python",
      "name": "python",
      "nbconvert_exporter": "python",
      "pygments_lexer": "ipython3",
      "version": "3.8.3"
    },
    "colab": {
      "name": "Vector-Space-inver_.ipynb",
      "provenance": [],
      "collapsed_sections": [],
      "include_colab_link": true
    }
  },
  "cells": [
    {
      "cell_type": "markdown",
      "metadata": {
        "id": "view-in-github",
        "colab_type": "text"
      },
      "source": [
        "<a href=\"https://colab.research.google.com/github/nangchung/truyvandaphuong/blob/main/Vector_Space_inver_.ipynb\" target=\"_parent\"><img src=\"https://colab.research.google.com/assets/colab-badge.svg\" alt=\"Open In Colab\"/></a>"
      ]
    },
    {
      "cell_type": "code",
      "metadata": {
        "id": "8mIwoGgevOXO"
      },
      "source": [
        "import glob\n",
        "import numpy as np\n",
        "import re\n",
        "\n",
        "\n",
        "def load_data_in_a_directory(data_path):\n",
        "    file_paths = glob.glob(data_path)\n",
        "    lst_contents = []\n",
        "    for file_path in file_paths:\n",
        "        f = open(file_path, 'r',encoding=\"utf-8\")\n",
        "        str = f.read()\n",
        "        words = str.replace('\"', '').replace('.', '').replace(\"'\",\"\").split()\n",
        "        #words = set(words)\n",
        "        lst_contents.append(words)\n",
        "    return (lst_contents, file_paths)\n",
        "\n",
        "# Doc noi dung cua tung file txt\n",
        "# va xay dung tap \"dictionary\" chua danh sach cac tu\n",
        "def build_dictionary(contents):\n",
        "    dictionary = set()\n",
        "    for content in contents:\n",
        "        dictionary.update(content)\n",
        "    return dictionary\n",
        "\n",
        "\n",
        "def calc_tf_weighting_inverted(vocab, contents):\n",
        "    TFinverted = []\n",
        "    \n",
        "    for indexW, word in enumerate(vocab):\n",
        "        files = []\n",
        "        \n",
        "        for indexT, title in enumerate(contents):\n",
        "            file = []\n",
        "            if word in title:\n",
        "                file.append(indexT)\n",
        "                file.append(title.count(word) / len(title))\n",
        "                files.append(file)\n",
        "#                 print(file)\n",
        "        TFinverted.append(files) \n",
        "\n",
        "    return TFinverted\n",
        "\n",
        "def calc_tf_weighting_inverted_query(vocab, contents, querys):\n",
        "    TFinverted = []\n",
        "    set_querys = set(querys)\n",
        "    \n",
        "        \n",
        "    for query in set_querys:\n",
        "        if (query not in vocab):\n",
        "            continue;\n",
        "        else:\n",
        "            for indexW, word in enumerate(vocab):\n",
        "                file = []\n",
        "                if (query == word):\n",
        "                    file.append(indexW)\n",
        "                    file.append(querys.count(query) / len(querys))\n",
        "\n",
        "            #                 print(file)\n",
        "                    TFinverted.append(file) \n",
        "\n",
        "    return TFinverted\n"
      ],
      "execution_count": 2,
      "outputs": []
    },
    {
      "cell_type": "code",
      "metadata": {
        "id": "TiYygEFhv2nK",
        "outputId": "315bac56-7fa0-4f90-ed6a-723aa96b0a1e",
        "colab": {
          "base_uri": "https://localhost:8080/",
          "height": 34
        }
      },
      "source": [
        "from google.colab import drive\n",
        "drive.mount('/content/drive')"
      ],
      "execution_count": 6,
      "outputs": [
        {
          "output_type": "stream",
          "text": [
            "Drive already mounted at /content/drive; to attempt to forcibly remount, call drive.mount(\"/content/drive\", force_remount=True).\n"
          ],
          "name": "stdout"
        }
      ]
    },
    {
      "cell_type": "code",
      "metadata": {
        "id": "_wcxmDCjvOXR"
      },
      "source": [
        "# MAIN\n",
        "\n",
        "# BUOC 1: Load cac file trong 'data' va xay dụng tap cac tu vung\n",
        "contents, paths = load_data_in_a_directory('/content/drive/My Drive/truy van da phuong/filedata/*.txt')\n",
        "vocab = build_dictionary(contents)\n"
      ],
      "execution_count": 7,
      "outputs": []
    },
    {
      "cell_type": "code",
      "metadata": {
        "id": "9Ej3Mg83vOXU"
      },
      "source": [
        "# BUOC 2: Xay dung vector TF weighting cho \n",
        "# tap van ban va truy van\n",
        "TF = calc_tf_weighting_inverted(vocab, contents)\n",
        "query=\"TP\"\n",
        "qcontent = query.split()\n",
        "qTF = calc_tf_weighting_inverted_query(vocab, contents, qcontent)\n"
      ],
      "execution_count": 8,
      "outputs": []
    },
    {
      "cell_type": "code",
      "metadata": {
        "id": "MHrf043yvOXW",
        "outputId": "e3c88b50-796e-454b-baab-d5180e2bd125",
        "colab": {
          "base_uri": "https://localhost:8080/",
          "height": 134
        }
      },
      "source": [
        "# BUOC 3: Xay dung vector IDF weight cho tap van ban\n",
        "DF = np.array([len(x) for x in TF])\n",
        "IDF = 1 + np.log(len(contents) / DF)\n",
        "IDF = np.array([IDF]).T\n",
        "IDF"
      ],
      "execution_count": 9,
      "outputs": [
        {
          "output_type": "execute_result",
          "data": {
            "text/plain": [
              "array([[7.90975328],\n",
              "       [4.81871083],\n",
              "       [1.66171041],\n",
              "       ...,\n",
              "       [7.90975328],\n",
              "       [6.52345892],\n",
              "       [7.90975328]])"
            ]
          },
          "metadata": {
            "tags": []
          },
          "execution_count": 9
        }
      ]
    },
    {
      "cell_type": "code",
      "metadata": {
        "id": "x-eWkNuUvOXZ"
      },
      "source": [
        "# BUOC 4: Xay dung vector TF_IDF weighting cho\n",
        "# tap van ban va truy van\n",
        "for i in range(len(IDF)):\n",
        "    for j in range(len(TF[i])):\n",
        "#         print(TF2[i])\n",
        "#         print(\"\\n\")\n",
        "        TF[i][j][1] = TF[i][j][1] * IDF[i]\n",
        "for q in qTF:\n",
        "    q[1] *= IDF[q[0]]\n"
      ],
      "execution_count": 10,
      "outputs": []
    },
    {
      "cell_type": "code",
      "metadata": {
        "id": "4k0BLigIvOXb",
        "outputId": "425fa7d8-84f5-4ab5-be8f-2d1fb58df942",
        "colab": {
          "base_uri": "https://localhost:8080/",
          "height": 154
        }
      },
      "source": [
        "# BUOC 5: Tinh do tuong dong cua query va cac van ban\n",
        "# su dung TF_IDF weighting\n",
        "dists = np.zeros(len(contents))\n",
        "\n",
        "for q in qTF:\n",
        "    for tf_idf in TF[q[0]]:\n",
        "        dists[tf_idf[0]] += (q[1] - tf_idf[1]) ** 2\n",
        "        \n",
        "# BUOC 6: Sap xep de sap hang va hien thi ket qua\n",
        "rank = np.argsort(dists)[::-1]\n",
        "print(rank)\n",
        "print(dists)\n",
        "topK = 5\n",
        "for i in range(topK):\n",
        "    print('Van ban gan thu ', i+1, ' la: ', ' '.join(paths[rank[i]]))"
      ],
      "execution_count": 11,
      "outputs": [
        {
          "output_type": "stream",
          "text": [
            "[551 385 106 ... 655 654   0]\n",
            "[0. 0. 0. ... 0. 0. 0.]\n",
            "Van ban gan thu  1  la:  / c o n t e n t / d r i v e / M y   D r i v e / t r u y   v a n   d a   p h u o n g / f i l e d a t a / d a t a 9 9 0 . t x t\n",
            "Van ban gan thu  2  la:  / c o n t e n t / d r i v e / M y   D r i v e / t r u y   v a n   d a   p h u o n g / f i l e d a t a / d a t a 8 2 4 . t x t\n",
            "Van ban gan thu  3  la:  / c o n t e n t / d r i v e / M y   D r i v e / t r u y   v a n   d a   p h u o n g / f i l e d a t a / d a t a 5 4 5 . t x t\n",
            "Van ban gan thu  4  la:  / c o n t e n t / d r i v e / M y   D r i v e / t r u y   v a n   d a   p h u o n g / f i l e d a t a / d a t a 8 5 5 . t x t\n",
            "Van ban gan thu  5  la:  / c o n t e n t / d r i v e / M y   D r i v e / t r u y   v a n   d a   p h u o n g / f i l e d a t a / d a t a 4 0 5 . t x t\n"
          ],
          "name": "stdout"
        }
      ]
    },
    {
      "cell_type": "code",
      "metadata": {
        "id": "e4MSi5eLvOXi"
      },
      "source": [
        "\n"
      ],
      "execution_count": null,
      "outputs": []
    },
    {
      "cell_type": "code",
      "metadata": {
        "id": "EKtAMLK_vOXo"
      },
      "source": [
        ""
      ],
      "execution_count": null,
      "outputs": []
    }
  ]
}