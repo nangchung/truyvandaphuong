{
  "nbformat": 4,
  "nbformat_minor": 0,
  "metadata": {
    "colab": {
      "name": "boolean 2.ipynb",
      "provenance": [],
      "collapsed_sections": [],
      "mount_file_id": "1I3T2n6F1C-SoysjBPDG3erENYOo8p9uD",
      "authorship_tag": "ABX9TyNh07y3hTIwdtEkJewIcUdl",
      "include_colab_link": true
    },
    "kernelspec": {
      "name": "python3",
      "display_name": "Python 3"
    }
  },
  "cells": [
    {
      "cell_type": "markdown",
      "metadata": {
        "id": "view-in-github",
        "colab_type": "text"
      },
      "source": [
        "<a href=\"https://colab.research.google.com/github/nangchung/truyvandaphuong/blob/main/boolean_2.ipynb\" target=\"_parent\"><img src=\"https://colab.research.google.com/assets/colab-badge.svg\" alt=\"Open In Colab\"/></a>"
      ]
    },
    {
      "cell_type": "markdown",
      "metadata": {
        "id": "-QguFSA2jPVf"
      },
      "source": [
        "import thư viện"
      ]
    },
    {
      "cell_type": "code",
      "metadata": {
        "id": "xme5N_dKak7e"
      },
      "source": [
        "import glob\n",
        "import re\n",
        "import numpy as np\n",
        "import string"
      ],
      "execution_count": 1,
      "outputs": []
    },
    {
      "cell_type": "markdown",
      "metadata": {
        "id": "Yu5LwscwjSuk"
      },
      "source": [
        "lấy file text từ drive"
      ]
    },
    {
      "cell_type": "code",
      "metadata": {
        "id": "U4YMI44xayYc",
        "outputId": "aa2f7d2a-9653-4dc4-ce58-eda61b11fb5c",
        "colab": {
          "base_uri": "https://localhost:8080/",
          "height": 54
        }
      },
      "source": [
        "\n",
        "text_file_paths= glob.glob('/content/drive/My Drive/truy van da phuong/databai2/*.txt')\n",
        "print(text_file_paths)"
      ],
      "execution_count": 2,
      "outputs": [
        {
          "output_type": "stream",
          "text": [
            "['/content/drive/My Drive/truy van da phuong/databai2/data2.txt', '/content/drive/My Drive/truy van da phuong/databai2/data1.txt', '/content/drive/My Drive/truy van da phuong/databai2/data5.txt', '/content/drive/My Drive/truy van da phuong/databai2/data3.txt', '/content/drive/My Drive/truy van da phuong/databai2/data4.txt']\n"
          ],
          "name": "stdout"
        }
      ]
    },
    {
      "cell_type": "code",
      "metadata": {
        "id": "QYiB6rWFoDPr",
        "outputId": "152c69c1-8bf7-424f-f5bf-adab9a71097a",
        "colab": {
          "base_uri": "https://localhost:8080/",
          "height": 34
        }
      },
      "source": [
        "lst_content = []\n",
        "print(lst_content)"
      ],
      "execution_count": 3,
      "outputs": [
        {
          "output_type": "stream",
          "text": [
            "[]\n"
          ],
          "name": "stdout"
        }
      ]
    },
    {
      "cell_type": "markdown",
      "metadata": {
        "id": "iaEjAVLkjWrw"
      },
      "source": [
        "đọc các file text và tách từ"
      ]
    },
    {
      "cell_type": "code",
      "metadata": {
        "id": "y-biDk8VbhkC",
        "outputId": "f763107a-3662-4109-eccb-d43d44aa482a",
        "colab": {
          "base_uri": "https://localhost:8080/",
          "height": 54
        }
      },
      "source": [
        "dec_=set()\n",
        "lst_content = []\n",
        "for file_path in text_file_paths:\n",
        "  f = open(file_path,'r')\n",
        "  file = f.read()\n",
        "\t#lst_content.append(file)\n",
        "\t#replace văn bản(loại bỏ kí tự để đưa về caccs word độc lập)và tách từ bằng split()\n",
        "  word = file.replace('\"', '').replace('.', '').replace(\"'\",\"\").lower().split()\n",
        "\t#gộp các word lại để được 1 tập word không trùng lặp từ\n",
        "  word = set(word)\n",
        "  lst_content.append(word)\n",
        "  dec_.update(word)\n",
        "\t#print('tap cac tu ',dec_)\n",
        "\t#print(file)\n",
        "dec_ = list(dec_)\n",
        "print(dec_)"
      ],
      "execution_count": 4,
      "outputs": [
        {
          "output_type": "stream",
          "text": [
            "['lập', 'lặng', 'đạo', 'toàn,', 'dụ', 'nhất', '2–0', 'xanh', 'điển', 'gov,', 'thế', 'dữ', 'yêu', 'đến', 'bóngnếu', 'tay', 'đăng', 'thăng', 'nghệ', '8', 'sản', 'mạnh,', 'xem)', 'gates', 'phần', 'hay', 'ra', 'cơ', 'tịch', 'cách', 'giải', 'đi', 'về', 'học,', 'vấn', 'mà', 'buổi', 'pirlo', 'nou', 'cỏ', 'nâng', 'hot,', 'tranh', 'chữ', 'blogtamsu', 'hậu', 'tình', '1-1', 'rảnh', 'chuyện', 'lợi', 'lionel', 'luống', 'tan', '33', '199854', 'bố,', 'khí', 'đánh', 'santos', 'tự', 'nam', 'hữu', 'qua', 'rabiot', 'tính', 'ó', 'tải', 'hương', 'vladimir', 'nhiên', 'hội', 'tựa', 'khoa', 'chứ', 'cầu', 'phục', 'hungary', 'nhòa', 'kịch', 'lớn', 'đối', 'tập', 'dậy', 'putin,', 'hoà', 'của', 'bộc', 'mở', 'chung', 'uruguay', 'sai', 'lại,', 'ngôi', 'chiến', 'trách', 'loạn', 'nếu', 'con', 'bàn', 'vậy', 'rio', 'điều', 'hạng', 'olimpico', 'sẵn', 'quá', 'pha', 'alvaro', 'giật', 'phỏng', 'chẽ', 'đào', '7-1', 'gì', 'này', 'năm', 'mộ', 'một', 'phong', 'nguồn', 'sáng', 'bxh', 'argentina', 'mài', 'kết', 'khép', 'chân', 'doanh,', 'thể', 'lên', 'khung', 'lịch', 'hồi', 'tra', 'thứ', 'bất', 'chạm', 'văn', 'chửi', 'tương', 'giám', 'barack', 'thậm', 'chủ', 'phía', 'top', 'luôn', 'bị', 'cục', 'sắc', 'rồi', 'cùng', 'ba', 'ngay', 'trả', 'khích', 'tốt', 'trường,', 'cạnh', 'và', 'trường', 'tạt', 'đem', '62', 'lai,', 'ngoạn', 'bỏ', 'kinh', 'đầu', 'nhượng', 'dám', 'phút', 'hlv', 'thừa', 'đau', 'tui', 'chẳng', 'mạnh', 'dội', 'nha', 'hành', 'loạt', 'phải,', 'đầy', 'veretout', 'sẻ:', 'dừng', 'nhàm', '5', 'thêm', 'nhã', 'đàn', 'bén', 'bầu', '1914', 'dân', 'trang', 'đại', 'nữa', 'coi', 'exeter', 'khẳng', 'đếm', 'loại', 'sẽ', 'quyết', 'trích', 'đoàn', 'kết,', 'tròn', 'city', 'trí', 'miệt', 'nứt', 'tứ', 'quả', 'vinh', 'nhuận', 'sách', 'có', 'xúc', 'báo', 'hiềm', 'bộ', 'tuổi', 'thực', 'ngồi', 'niềm', 'thức', 'biết', 'chia', 'phạm', 'donald', 'vì', 'mẽ', 'phùng', 'cặp', 'cảiđưa', 'chấp', 'ghế', 'túc', 'ở', 'hình', 'thành,', 'làm', 'hiệp', 'la', 'cup', 'mẫu', 'áo', 'hòa', 'são', 'ảnh', 'racụ', 'fc', 'chí', 'vĩnh', 'gates,', 'lãnh', 'cái', 'thủ', 'djalma', 'riêng', 'tất', 'tiếp', 'nilton', 'nơi', 'vào', 'việt', 'đỏ', 'đồng,', 'phú', 'cận', 'cũng', 'đâu', 'rằng', 'vượt', 'đẹp', 'hùng', 'dù', 'đó', 'nghề', 'tượng', 'thống', 'chao', 'mực', 'trùm', 'sự', 'xem', 'đây', 'còn', 'gương', 'làng', 'quốc', 'rối', 'khán', 'trên', 'diễn', 'chán', 'viết', 'tháng', 'bởi', 'lại', 'nằm', 'độ', 'thành:', 'chỗ', 'thời', 'gian', 'thắng', 'thiệu', 'messi', 'binh', 'hôm', 'ý', 'cuộc', 'khăn', 'không?tỏ', 'được', 'đột', 'tên', 'nào,', 'tây', 'máu', 'hoàng', 'ưu', 'chỉ', 'kỳ', 'áo,', 'nào', '1950,', 'riết', '1-2', 'vật', 'tiên', 'barcelona,', 'ít', 'bill', 'hướng', '1954', 'thách', 'silva', 'bên', 'tiếng', 'tôi', 'bảo:', 'camp', 'đề', 'đáng', 'đang', 'hiểu', 'sân', 'im', 'rõ', 'trở', 'narendra', 'trước', 'đội', 'viên', 'cạn', 'cầm', 'truyền', 'sàng', 'để', 'mùa', 'dùng', 'sau', 'gặp', 'barcelona', 'muốn', 'giáo', 'hài', '1930', 'nhà', 'trấn', 'tỷ', 'vẹn', 'đoạt', 'maracanazo', 'theo', 'giờ', 'phạt', 'world', 'màu', 'đón', 'tham', 'tiến', 'mặt', 'gồm', 'xui', 'brazil', 'giới', 'pope', 'ngạc', 'janeiro', 'tại', '1934,', 'modi', 'chấm', 'công', 'cánh', 'vai', 'bật', 'francischỉ', 'phá', 'biệt', 'hiện,', 'suarez', 'thì', 'ví', 'phải', 'nhục', 'rời', 'ông', 'nên', 'sĩ,', 'đứng', 'định', 'bù', 'vị', 'bảng', 'hai', 'siêu', 'đong', 'ngưỡng', 'chúng', 'lỡ,', 'vệ', 'già', 'obama,', 'morata', 'mạng', 'roma', 'khai', 'dễ', 'đúc', 'tổng', 'chính', 'hộ', 'đảo', 'rất', 'sao', 'bà', 'bản', 'giang', 'danh', 'santos,', 'ronaldo', 'khấu,', 'trước,', 'da', 'hoa,', 'sợ', 'xảy', 'giữa', 'thụy', 'obama', 'mỗi', 'vàng', 'cảm', 'sử', 'không', 'juventus', 'thông', 'giả', 'chặt', 'luis', 'dứt', 'bẩn', 'nga', 'nỗ', 'hot', 'hợp', 'đây,', 'chắc', 'kiện', 'hiện', 'anh', 'quần', 'thẻ', 'thua', 'ủng', 'cọ', '2-4', '1,', 'hoàn', 'chuyển', 'tục', 'rating', 'vận', 'cr7,', 'cựu', 'ai', 'long', 'nguyên', 'trò', 'cho', 'phản', 'điện', 'you', 'nổi', 'leônidas', 'bội', 'đồng', 'giao', 'đấu', 'vui', 'chuẩn', 'động', 'chức', 'ràng', 'lá', 'xóa', 'nhiên,', 'liệt', 'lầm', 'đá', 'tầm', 'họp', 'tâm', 'hạn', 'vụ', '3,', 'điểm', 'gia', 'bao', 'đồn', 'mình-', 'chọn', 'nhiều', 'những', 'thích', 'morata,', 'xuất', 'cắt', 'nhân', 'đích', 'mọi', 'hủy', 'bóng', 'hưởng', 'đo', 'rạn', 'thuận', 'này,', 'nhưng,', 'nghĩ', 'nhận', 'toàn', 'đó,', 'hàng', 'tỏa', 'đặc', 'trong', 'đều', 'cai', 'berne', 'cần', 'lời', 'khi', 'đúp,', 'tạo', 'trung', 'hảo', 'càng', 'bạn', 'jordan', 'gang', 'nhàkhông', 'thân', 'khảo', 'tày', 'mục,', 'viễn', 'cuối', 'brasil', 'ban', 'từ', 'thấy', 'với', 'yếu', 'tắc', 'đè', 'khó', 'chí,', 'sport', 'dìm', 'trận', 'thi', 'xin', 'ấn', 'buồn', 'giác', 'tuy', 'gỡ', 'cả', 'bang', 'giá', 'blaugrana', 'số', 'khoảng', 'thiệt,', 'trump', 'didi', '2-2', 'kể', 'sóng', '1938', 'buộc', 'cú', 'giang,', 'tiền', 'chương', 'vô', 'thái', 'tấn', 'là', 'trắng', 'quan', 'kiến', 'hari', 'bình,', 'thành', 'vòng', 'nọ', 'may', 'ngày', 'tướng', '(chỉ', '2-1', 'kê', 'tít,', 'liên', 'chuyến', 'bế', 'chán,', 'tuyển', 'cules', 'bồ', 'tin', 'hè', 'cristiano', 'hơn', 'quân', '31,', 'bực', 'diệt,', 'mỹ', 'đầu,', 'nói:', 'kịp', 'vừa', 'thay', 'tổ', 'lành', 'lượt', 'cãi', 'lần', '69,', 'dương', 'thỉu', 'rốt', 'microsoft', 'cấm,', 'andrea', 'de', 'lựa', 'đền', 'ghi', 'đã', '6-1', 'mình', 'địch', 'ngắn', '15', 'minh', '4', 'ngờ', 'đặt', 'sĩ', 'xứng', 'cân', 'paulo', 'đôi', 'nhưng', 'có,', 'nóng,', 'nay', 'chiếm', 'các', 'cao', 'như', 'ýđồng', 'bạchcòn', 'khiến', 'gây', 'mới', '44,', 'nói', 'lực', 'đầm', 'mặc', 'bẹp', 'as', 'lúc', '2', 'trình', 'lấy', 'bằng', 'nhiệm', 'xếp', '1', 'maracanã', 'tiện', 'tăm', 'tờ', 'tân', 'bài', 'vẫn', 'người', 'họ', 'thúc,', 'việc', 'thao,']\n"
          ],
          "name": "stdout"
        }
      ]
    },
    {
      "cell_type": "markdown",
      "metadata": {
        "id": "kQF8_PaNjbgP"
      },
      "source": [
        "xây dựng ma trận term_docx zero"
      ]
    },
    {
      "cell_type": "code",
      "metadata": {
        "id": "LZfu7VQBiUJy",
        "outputId": "90c489b3-af1e-441d-ed34-8132b75c2b04",
        "colab": {
          "base_uri": "https://localhost:8080/",
          "height": 151
        }
      },
      "source": [
        "term_docx = np.zeros((len(dec_),len(text_file_paths)))\n",
        "print(term_docx)\n",
        "print('kich thuc ma tran ',term_docx.shape)"
      ],
      "execution_count": 5,
      "outputs": [
        {
          "output_type": "stream",
          "text": [
            "[[0. 0. 0. 0. 0.]\n",
            " [0. 0. 0. 0. 0.]\n",
            " [0. 0. 0. 0. 0.]\n",
            " ...\n",
            " [0. 0. 0. 0. 0.]\n",
            " [0. 0. 0. 0. 0.]\n",
            " [0. 0. 0. 0. 0.]]\n",
            "kich thuc ma tran  (725, 5)\n"
          ],
          "name": "stdout"
        }
      ]
    },
    {
      "cell_type": "markdown",
      "metadata": {
        "id": "4dM9vnTIjq1z"
      },
      "source": [
        "đánh chỉ số cho các từ trên mỗi ma trận của văn bản"
      ]
    },
    {
      "cell_type": "code",
      "metadata": {
        "id": "8NWVtLATinMX",
        "outputId": "5591dca0-c505-4f8f-971b-ad4e7dc9c70f",
        "colab": {
          "base_uri": "https://localhost:8080/",
          "height": 134
        }
      },
      "source": [
        "for k,word in enumerate(dec_):      #k là chỉ số vị trí của từ//vòng lặp tìm từ trong danh sách từ điển\n",
        "\tfor i,content in enumerate(lst_content):   #i là chỉ số của văn bản // vòng lặp tìm từ trong văn bản\n",
        "\t\tif word in content:\n",
        "\t\t\tterm_docx[k,i]=1\n",
        "print(term_docx)"
      ],
      "execution_count": 6,
      "outputs": [
        {
          "output_type": "stream",
          "text": [
            "[[0. 0. 0. 1. 0.]\n",
            " [0. 0. 0. 1. 0.]\n",
            " [0. 0. 0. 0. 1.]\n",
            " ...\n",
            " [0. 0. 0. 1. 0.]\n",
            " [1. 0. 0. 0. 1.]\n",
            " [1. 0. 0. 0. 0.]]\n"
          ],
          "name": "stdout"
        }
      ]
    },
    {
      "cell_type": "markdown",
      "metadata": {
        "id": "mgVCrW0xjwDs"
      },
      "source": [
        "xử lí câu truy vấn\n"
      ]
    },
    {
      "cell_type": "code",
      "metadata": {
        "id": "ivn4hO75bh99",
        "outputId": "e4a9816f-f241-4d6e-b7f1-d1dcb6c1e596",
        "colab": {
          "base_uri": "https://localhost:8080/",
          "height": 67
        }
      },
      "source": [
        "#query = '\"ronaldo\" AND \"brasil\"'\n",
        "#rất tiếc câu truy vấn theo yêu cầu của thầy không có data nào em thỏa mãn nên đã tự đổi một câu truy vấn khác\n",
        "query = '\"ronaldo\" OR \"brasil\" AND \"việt\" OR \"thích\" XOR \"xin\" OR NOT \"yêu\" AND NOT \"đến\"'\n",
        "query_words = re.findall('\"(\\w+)\"',query)\n",
        "#query_logic = re.findall(' (\\w+)',query)    \n",
        "key = re.findall('(\\w+)',query)\n",
        "\n",
        "print(query_words)\n",
        "#print(query_logic)\n",
        "print(key)\n"
      ],
      "execution_count": 88,
      "outputs": [
        {
          "output_type": "stream",
          "text": [
            "['ronaldo', 'brasil', 'việt', 'thích', 'xin', 'yêu', 'đến']\n",
            "['OR', 'AND', 'OR', 'XOR', 'OR', 'NOT', 'AND', 'NOT']\n",
            "['ronaldo', 'OR', 'brasil', 'AND', 'việt', 'OR', 'thích', 'XOR', 'xin', 'OR', 'NOT', 'yêu', 'AND', 'NOT', 'đến']\n"
          ],
          "name": "stdout"
        }
      ]
    },
    {
      "cell_type": "markdown",
      "metadata": {
        "id": "fqe-M93KtWE3"
      },
      "source": [
        "hàm tìm vecto của từ truy vấn trong các văn bản mà nó xuất hiện"
      ]
    },
    {
      "cell_type": "code",
      "metadata": {
        "id": "vcXxGOMqjN7B"
      },
      "source": [
        "\n",
        "def vecto(query_word):\n",
        "  if query_word in query_words:\n",
        "    try:\n",
        "          k = dec_.index(query_word)\n",
        "          word_vec = term_docx[k,:]\n",
        "          return word_vec\n",
        "          #print('Vector bieu dien cua ', query_word, ' la: ', word_vec)\n",
        "    except:\n",
        "        pass"
      ],
      "execution_count": 8,
      "outputs": []
    },
    {
      "cell_type": "markdown",
      "metadata": {
        "id": "CU56ISc-FBJu"
      },
      "source": [
        "dòng này để chơi giúp hiển thị các vecto của các từ truy vấn"
      ]
    },
    {
      "cell_type": "code",
      "metadata": {
        "id": "BGkxc3IWoEH2"
      },
      "source": [
        "w = []\n",
        "for word in query_words:\n",
        "  w.append(vecto(word))"
      ],
      "execution_count": 85,
      "outputs": []
    },
    {
      "cell_type": "code",
      "metadata": {
        "id": "cG_62tsgICyQ",
        "outputId": "bb37ef38-25c3-456b-cbc6-be6e40c5d02f",
        "colab": {
          "base_uri": "https://localhost:8080/",
          "height": 134
        }
      },
      "source": [
        "w"
      ],
      "execution_count": 86,
      "outputs": [
        {
          "output_type": "execute_result",
          "data": {
            "text/plain": [
              "[array([1., 1., 0., 0., 0.]),\n",
              " array([0., 0., 0., 1., 0.]),\n",
              " array([0., 0., 1., 0., 0.]),\n",
              " array([1., 0., 0., 0., 0.]),\n",
              " array([0., 0., 0., 0., 1.]),\n",
              " array([1., 0., 0., 0., 1.]),\n",
              " array([0., 1., 1., 1., 0.])]"
            ]
          },
          "metadata": {
            "tags": []
          },
          "execution_count": 86
        }
      ]
    },
    {
      "cell_type": "markdown",
      "metadata": {
        "id": "TuvD3S9wFOzm"
      },
      "source": [
        "Các hàm sử lý luận lý: có 4 hàm chính "
      ]
    },
    {
      "cell_type": "code",
      "metadata": {
        "id": "vFyOF_Nv0t5o"
      },
      "source": [
        "def AND(x,y):\n",
        "  v=np.zeros(len(x))\n",
        "  for i in range(len(x)):\n",
        "    if x[i] == 1 and y[i] == 1:\n",
        "      v[i]=1\n",
        "    else:\n",
        "      v[i]=0\n",
        "  return v"
      ],
      "execution_count": 11,
      "outputs": []
    },
    {
      "cell_type": "code",
      "metadata": {
        "id": "g8NHKU_C3UqM"
      },
      "source": [
        "def OR(x,y):\n",
        "  v=np.zeros(len(x))\n",
        "  for i in range(len(x)):\n",
        "    if x[i]==0 and y[i]==0:\n",
        "      v[i]=0\n",
        "    else:\n",
        "      v[i]=1\n",
        "  return v\n"
      ],
      "execution_count": 15,
      "outputs": []
    },
    {
      "cell_type": "code",
      "metadata": {
        "id": "twMP4D814V9N"
      },
      "source": [
        "def NOT(x):\n",
        "  v=np.zeros(len(x))\n",
        "  for i in range(len(x)):\n",
        "    if x[i]==0:\n",
        "      v[i]=1\n",
        "    else:\n",
        "      v[i]=0\n",
        "  return v"
      ],
      "execution_count": 29,
      "outputs": []
    },
    {
      "cell_type": "code",
      "metadata": {
        "id": "PDAATXdk4rM7"
      },
      "source": [
        "def XOR(x,y):\n",
        "  v=np.zeros(len(x))\n",
        "  for i in range(len(x)):\n",
        "    if x[i]==y[i]:\n",
        "      v[i]=0\n",
        "    else:\n",
        "      v[i]=1\n",
        "  return v"
      ],
      "execution_count": 14,
      "outputs": []
    },
    {
      "cell_type": "code",
      "metadata": {
        "id": "mJlcG9UX2q4w",
        "outputId": "69febfd2-eee4-4af6-c204-69fa1dd8c385",
        "colab": {
          "base_uri": "https://localhost:8080/",
          "height": 34
        }
      },
      "source": [
        "#gán kết quả bằng vecto của từ truy vấn đầu tiên\n",
        "kq=[]\n",
        "if key[0] == \"NOT\":\n",
        "  kq = NOT(vecto(key[1]))\n",
        "else:\n",
        "  kq = vecto(key[0])\n",
        "# dùng vòng for truy vấn từ word đầu tiên đến hết câu truy vấn\n",
        "for i in range(len(key)):\n",
        "  if key[i] in query_words:  #bỏ qua nếu là từ truy vấn\n",
        "   pass\n",
        "  if key[i]==\"NOT\":          # bỏ qua nếu biểu thức luận lý là NOT vì đã sử lý bên dưới\n",
        "    pass\n",
        "# đoạn sử lý các biểu thức logic trong câu truy vấn\n",
        "  if key[i]==\"AND\":\n",
        "    if key[i+1]==\"NOT\":\n",
        "      kq = AND(kq,NOT(vecto(key[i+2])))\n",
        "    else:\n",
        "      kq = AND(kq,vecto(key[i+1]))\n",
        "  if key[i]==\"OR\":\n",
        "    if key[i+1]==\"NOT\":\n",
        "      kq = OR(kq,NOT(vecto(key[i+2])))\n",
        "    else:\n",
        "      kq = OR(kq,vecto(key[i+1]))\n",
        "  if key[i]==\"XOR\":\n",
        "    if key[i+1]==\"NOT\":\n",
        "      kq = XOR(kq,NOT(vecto(key[i+2])))\n",
        "    else:\n",
        "      kq = XOR(kq,vecto(key[i+1]))\n",
        "\n",
        "print(\"vecto văn bản thỏa mã với câu truy vấn là \" ,kq)\n",
        "\n"
      ],
      "execution_count": 87,
      "outputs": [
        {
          "output_type": "stream",
          "text": [
            "vecto văn bản thỏa mã với câu truy vấn là  [1. 0. 0. 0. 1.]\n"
          ],
          "name": "stdout"
        }
      ]
    },
    {
      "cell_type": "markdown",
      "metadata": {
        "id": "qJ6xO5O5HRjE"
      },
      "source": [
        "vòng for tìm ra văn bản phù hơn với câu truy vấn"
      ]
    },
    {
      "cell_type": "code",
      "metadata": {
        "id": "2xjUB2MCGeXH",
        "outputId": "da6b9aab-2f8a-46a7-93d4-d5f3afd63789",
        "colab": {
          "base_uri": "https://localhost:8080/",
          "height": 50
        }
      },
      "source": [
        "for i in range(len(kq)):\n",
        "  if kq[i]==1:\n",
        "    print(text_file_paths[i])\n",
        "  else:\n",
        "    pass\n",
        "  "
      ],
      "execution_count": 78,
      "outputs": [
        {
          "output_type": "stream",
          "text": [
            "/content/drive/My Drive/truy van da phuong/databai2/data2.txt\n",
            "/content/drive/My Drive/truy van da phuong/databai2/data4.txt\n"
          ],
          "name": "stdout"
        }
      ]
    },
    {
      "cell_type": "markdown",
      "metadata": {
        "id": "rdCtqvUqtdL7"
      },
      "source": [
        "xử lý luận lý của câu truy vấn\n"
      ]
    }
  ]
}