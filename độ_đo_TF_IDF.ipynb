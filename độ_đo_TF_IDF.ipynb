{
  "nbformat": 4,
  "nbformat_minor": 0,
  "metadata": {
    "colab": {
      "name": "độ đo TF-IDF.ipynb",
      "provenance": [],
      "include_colab_link": true
    },
    "kernelspec": {
      "name": "python3",
      "display_name": "Python 3"
    }
  },
  "cells": [
    {
      "cell_type": "markdown",
      "metadata": {
        "id": "view-in-github",
        "colab_type": "text"
      },
      "source": [
        "<a href=\"https://colab.research.google.com/github/nangchung/truyvandaphuong/blob/main/%C4%91%E1%BB%99_%C4%91o_TF_IDF.ipynb\" target=\"_parent\"><img src=\"https://colab.research.google.com/assets/colab-badge.svg\" alt=\"Open In Colab\"/></a>"
      ]
    },
    {
      "cell_type": "code",
      "metadata": {
        "id": "CnvhXzRhHgi5"
      },
      "source": [
        "import glob\n",
        "import numpy as np\n",
        "import re"
      ],
      "execution_count": 2,
      "outputs": []
    },
    {
      "cell_type": "code",
      "metadata": {
        "id": "KJwJGNK6Hh4M"
      },
      "source": [
        "def load_data_in_a_directory(data_path):\n",
        "    file_paths = glob.glob(data_path)\n",
        "    lst_contents = []\n",
        "    for file_path in file_paths:\n",
        "        f = open(file_path, 'r',encoding=\"utf-8\")\n",
        "        str = f.read()\n",
        "        words = str.replace('\"', '').replace('.', '').replace(\"'\",\"\").split()\n",
        "        #words = set(words)\n",
        "        lst_contents.append(words)\n",
        "    return (lst_contents, file_paths)"
      ],
      "execution_count": 3,
      "outputs": []
    },
    {
      "cell_type": "code",
      "metadata": {
        "id": "VLf1q3O2Hpkk"
      },
      "source": [
        "# Doc noi dung cua tung file txt\n",
        "# va xay dung tap \"dictionary\" chua danh sach cac tu\n",
        "def build_dictionary(contents):\n",
        "    dictionary = set()\n",
        "    for content in contents:\n",
        "        dictionary.update(content)\n",
        "    return dictionary"
      ],
      "execution_count": 4,
      "outputs": []
    },
    {
      "cell_type": "code",
      "metadata": {
        "id": "6Og-KtjUHv41"
      },
      "source": [
        "def calc_tf_weighting_inverted(vocab, contents):\n",
        "    TFinverted = []\n",
        "    \n",
        "    for indexW, word in enumerate(vocab):\n",
        "        files = []\n",
        "        \n",
        "        for indexT, title in enumerate(contents):\n",
        "            file = []\n",
        "            if word in title:\n",
        "                file.append(indexT)\n",
        "                file.append(title.count(word) / len(title))\n",
        "                files.append(file)\n",
        "#                 print(file)\n",
        "        TFinverted.append(files) \n",
        "\n",
        "    return TFinverted"
      ],
      "execution_count": 5,
      "outputs": []
    },
    {
      "cell_type": "code",
      "metadata": {
        "id": "yJgH3H59Ur9E"
      },
      "source": [
        "def calc_tf_weighting_inverted_query(vocab, contents, querys):\n",
        "    TFinverted = []\n",
        "    set_querys = set(querys)\n",
        "    \n",
        "        \n",
        "    for query in set_querys:\n",
        "        if (query not in vocab):\n",
        "            continue;\n",
        "        else:\n",
        "            for indexW, word in enumerate(vocab):\n",
        "                file = []\n",
        "                if (query == word):\n",
        "                    file.append(indexW)\n",
        "                    file.append(querys.count(query) / len(querys))\n",
        "\n",
        "            #                 print(file)\n",
        "                    TFinverted.append(file) \n",
        "\n",
        "    return TFinverted"
      ],
      "execution_count": 6,
      "outputs": []
    },
    {
      "cell_type": "code",
      "metadata": {
        "id": "x7qKc0iYJhkk"
      },
      "source": [
        "# MAIN\n",
        "\n",
        "# BUOC 1: Load cac file trong 'data' va xay dụng tap cac tu vung\n",
        "contents, paths = load_data_in_a_directory('/content/drive/My Drive/truy van da phuong/filedata/*.txt')\n",
        "vocab = build_dictionary(contents)"
      ],
      "execution_count": 7,
      "outputs": []
    },
    {
      "cell_type": "code",
      "metadata": {
        "id": "eMuhPm-oTkmj"
      },
      "source": [
        "# BUOC 2: Xay dung vector TF weighting cho \n",
        "# tap van ban va truy van\n",
        "TF = calc_tf_weighting_inverted(vocab, contents)\n",
        "query=\"kỹ sư \"\n",
        "qcontent = query.split()\n",
        "qTF = calc_tf_weighting_inverted_query(vocab, contents, qcontent)"
      ],
      "execution_count": 8,
      "outputs": []
    },
    {
      "cell_type": "code",
      "metadata": {
        "id": "Qc8EiQxnTvos",
        "outputId": "0714f8d8-14a3-475a-8e57-09602557e48d",
        "colab": {
          "base_uri": "https://localhost:8080/",
          "height": 134
        }
      },
      "source": [
        "# BUOC 3: Xay dung vector IDF weight cho tap van ban\n",
        "DF = np.array([len(x) for x in TF])\n",
        "IDF = 1 + np.log(len(contents) / DF)\n",
        "IDF = np.array([IDF]).T\n",
        "IDF"
      ],
      "execution_count": 9,
      "outputs": [
        {
          "output_type": "execute_result",
          "data": {
            "text/plain": [
              "array([[6.81114099],\n",
              "       [6.11799381],\n",
              "       [7.90975328],\n",
              "       ...,\n",
              "       [2.60644837],\n",
              "       [6.81114099],\n",
              "       [7.90975328]])"
            ]
          },
          "metadata": {
            "tags": []
          },
          "execution_count": 9
        }
      ]
    },
    {
      "cell_type": "code",
      "metadata": {
        "id": "cRUBVF1eVWHx"
      },
      "source": [
        "# BUOC 4: Xay dung vector TF_IDF weighting cho\n",
        "# tap van ban va truy van\n",
        "for i in range(len(IDF)):\n",
        "    for j in range(len(TF[i])):\n",
        "#         print(TF2[i])\n",
        "#         print(\"\\n\")\n",
        "        TF[i][j][1] = TF[i][j][1] * IDF[i]\n",
        "for q in qTF:\n",
        "    q[1] *= IDF[q[0]]"
      ],
      "execution_count": 11,
      "outputs": []
    },
    {
      "cell_type": "code",
      "metadata": {
        "id": "kpsPQZ2yaqgZ",
        "outputId": "e0556ee3-561f-42da-e6fc-c17202b88612",
        "colab": {
          "base_uri": "https://localhost:8080/",
          "height": 87
        }
      },
      "source": [
        "# BUOC 5: Tinh do tuong dong cua query va cac van ban\n",
        "# su dung TF_IDF weighting\n",
        "\n",
        "#Độ đo L2\n",
        "dists = np.zeros(len(contents))\n",
        "\n",
        "for q in qTF:\n",
        "    for tf_idf in TF[q[0]]:\n",
        "        dists[tf_idf[0]] += ((q[1] - tf_idf[1]))**2\n",
        "        \n",
        "# BUOC 6: Sap xep de sap hang va hien thi ket qua\n",
        "rank = np.argsort(dists)[::-1]\n",
        "print(rank)\n",
        "print(dists)\n",
        "topK = 1\n",
        "for i in range(topK):\n",
        "    print('Văn bản gần thứ ', i+1, ' theo độ đo L2 là: ', ' '.join(paths[rank[i]]))"
      ],
      "execution_count": 13,
      "outputs": [
        {
          "output_type": "stream",
          "text": [
            "[195 531  44 ... 628 627   0]\n",
            "[0. 0. 0. ... 0. 0. 0.]\n",
            "Văn bản gần thứ  1  theo độ đo L2 là:  / c o n t e n t / d r i v e / M y   D r i v e / t r u y   v a n   d a   p h u o n g / f i l e d a t a / d a t a 6 4 1 . t x t\n"
          ],
          "name": "stdout"
        }
      ]
    },
    {
      "cell_type": "code",
      "metadata": {
        "id": "xE1ctP3Ufc6m"
      },
      "source": [
        "import numpy as np"
      ],
      "execution_count": 14,
      "outputs": []
    },
    {
      "cell_type": "code",
      "metadata": {
        "id": "45ChR2HifewI",
        "outputId": "7988db83-c009-470b-cbfb-532935182e7f",
        "colab": {
          "base_uri": "https://localhost:8080/",
          "height": 34
        }
      },
      "source": [
        "d_query = 0\n",
        "for q in qTF:\n",
        "  d_query += q[1]**2\n",
        "d_query = np.sqrt(d_query)\n",
        "d_query"
      ],
      "execution_count": 15,
      "outputs": [
        {
          "output_type": "execute_result",
          "data": {
            "text/plain": [
              "array([2.09907996])"
            ]
          },
          "metadata": {
            "tags": []
          },
          "execution_count": 15
        }
      ]
    },
    {
      "cell_type": "code",
      "metadata": {
        "id": "jxCjWAoZd70E",
        "outputId": "44dc35da-172c-41a6-d711-e2767dc1c016",
        "colab": {
          "base_uri": "https://localhost:8080/",
          "height": 34
        }
      },
      "source": [
        "#Độ đo cosine\n",
        "dis_doc = np.zeros(len(contents))\n",
        "cosines = np.zeros(len(contents))\n",
        "dot_qd = np.zeros(len(contents))\n",
        "\n",
        "for q in qTF:\n",
        "  for tf_idf in TF[q[0]]:\n",
        "    dis_doc[tf_idf[0]] += tf_idf[1]**2\n",
        "    dot_qd[tf_idf[0]] += tf_idf[1]*q[1]\n",
        "\n",
        "for i in range (len(dis_doc)):\n",
        "  if dis_doc[i]==0:\n",
        "    continue\n",
        "  else:\n",
        "    cosines[i]+=dot_qd[i]/d_query*np.sqrt(dis_doc[i])\n",
        "cosines"
      ],
      "execution_count": 16,
      "outputs": [
        {
          "output_type": "execute_result",
          "data": {
            "text/plain": [
              "array([0., 0., 0., ..., 0., 0., 0.])"
            ]
          },
          "metadata": {
            "tags": []
          },
          "execution_count": 16
        }
      ]
    },
    {
      "cell_type": "code",
      "metadata": {
        "id": "lZ4UaV6P7sVO",
        "outputId": "e761cfb5-c3eb-4cf6-b25c-f536db148d91",
        "colab": {
          "base_uri": "https://localhost:8080/",
          "height": 34
        }
      },
      "source": [
        "rank1 = np.argsort(cosines)[::-1]\n",
        "rank1"
      ],
      "execution_count": 17,
      "outputs": [
        {
          "output_type": "execute_result",
          "data": {
            "text/plain": [
              "array([207, 436, 571, ..., 628, 627,   0])"
            ]
          },
          "metadata": {
            "tags": []
          },
          "execution_count": 17
        }
      ]
    },
    {
      "cell_type": "code",
      "metadata": {
        "id": "8HQ-8hDgrBn3",
        "outputId": "825f6c83-428f-41d6-c8a9-f5847b56e46d",
        "colab": {
          "base_uri": "https://localhost:8080/",
          "height": 54
        }
      },
      "source": [
        "top=1\n",
        "for i in range(top):\n",
        "    print('Văn bản gần thứ ', i+1, 'theo độ đo cosine là: ', ' '.join(paths[rank1[i]]))"
      ],
      "execution_count": 18,
      "outputs": [
        {
          "output_type": "stream",
          "text": [
            "Văn bản gần thứ  1 theo độ đo cosine là:  / c o n t e n t / d r i v e / M y   D r i v e / t r u y   v a n   d a   p h u o n g / f i l e d a t a / d a t a 6 5 3 . t x t\n"
          ],
          "name": "stdout"
        }
      ]
    },
    {
      "cell_type": "code",
      "metadata": {
        "id": "npAWrbsvDeFR"
      },
      "source": [
        "#Tích vô hướng\n",
        "scalar1 = np.zeros(len(contents))\n",
        "\n",
        "for q in qTF:\n",
        "  for tf_idf in TF[q[0]]:\n",
        "    scalar1[tf_idf[0]] += tf_idf[1]*q[1]\n"
      ],
      "execution_count": 22,
      "outputs": []
    },
    {
      "cell_type": "code",
      "metadata": {
        "id": "Jad1PMDprhJT",
        "outputId": "ce160b3a-1ed5-464c-9e3a-f14a664343c5",
        "colab": {
          "base_uri": "https://localhost:8080/",
          "height": 34
        }
      },
      "source": [
        "rank2 = np.argsort(scalar1)[::-1]\n",
        "rank2"
      ],
      "execution_count": 25,
      "outputs": [
        {
          "output_type": "execute_result",
          "data": {
            "text/plain": [
              "array([207, 436, 571, ..., 628, 627,   0])"
            ]
          },
          "metadata": {
            "tags": []
          },
          "execution_count": 25
        }
      ]
    },
    {
      "cell_type": "code",
      "metadata": {
        "id": "-BDremj5rm3I",
        "outputId": "7b4b956a-ecb1-47a1-d858-d31ea07ac483",
        "colab": {
          "base_uri": "https://localhost:8080/",
          "height": 54
        }
      },
      "source": [
        "top2=1\n",
        "for i in range(top2):\n",
        "    print('Văn bản gần thứ ', i+1, ' theo độ đo tích vô hướng là: ', ' '.join(paths[rank2[i]]))"
      ],
      "execution_count": 26,
      "outputs": [
        {
          "output_type": "stream",
          "text": [
            "Văn bản gần thứ  1  theo độ đo tích vô hướng là:  / c o n t e n t / d r i v e / M y   D r i v e / t r u y   v a n   d a   p h u o n g / f i l e d a t a / d a t a 6 5 3 . t x t\n"
          ],
          "name": "stdout"
        }
      ]
    },
    {
      "cell_type": "code",
      "metadata": {
        "id": "TJQjjUqXzj-V",
        "outputId": "5083fc83-29bc-491b-a0c5-a1289168b493",
        "colab": {
          "base_uri": "https://localhost:8080/",
          "height": 34
        }
      },
      "source": [
        "from google.colab import drive\n",
        "drive.mount('/content/drive')"
      ],
      "execution_count": 1,
      "outputs": [
        {
          "output_type": "stream",
          "text": [
            "Mounted at /content/drive\n"
          ],
          "name": "stdout"
        }
      ]
    }
  ]
}