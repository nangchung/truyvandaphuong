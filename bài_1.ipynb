{
  "nbformat": 4,
  "nbformat_minor": 0,
  "metadata": {
    "colab": {
      "name": "bài 1.ipynb",
      "provenance": [],
      "collapsed_sections": [],
      "include_colab_link": true
    },
    "kernelspec": {
      "name": "python3",
      "display_name": "Python 3"
    }
  },
  "cells": [
    {
      "cell_type": "markdown",
      "metadata": {
        "id": "view-in-github",
        "colab_type": "text"
      },
      "source": [
        "<a href=\"https://colab.research.google.com/github/nangchung/truyvandaphuong/blob/main/b%C3%A0i_1.ipynb\" target=\"_parent\"><img src=\"https://colab.research.google.com/assets/colab-badge.svg\" alt=\"Open In Colab\"/></a>"
      ]
    },
    {
      "cell_type": "code",
      "metadata": {
        "id": "On95Bw3J31Z9"
      },
      "source": [
        "import numpy as np"
      ],
      "execution_count": 1,
      "outputs": []
    },
    {
      "cell_type": "code",
      "metadata": {
        "id": "IkhIXhivteV5",
        "outputId": "4ab8021f-8375-4386-f372-378e8ca3a8e8",
        "colab": {
          "base_uri": "https://localhost:8080/"
        }
      },
      "source": [
        "#Nhập ma trận \n",
        "print(\"Kích thước của ma trận: \")\n",
        "n = int(input().strip())\n",
        "matrix = []\n",
        "for i in range(n):\n",
        "  print(\"Nhập dòng thứ\", i+1)\n",
        "  entries = list(map(int, input().split()))\n",
        "  matrix.append(entries)\n",
        "matrix = np.array(matrix)\n",
        "kernel = np.array([[0, 0, 0],\n",
        "                   [0, 0.5, 0],\n",
        "                   [0, 1, 0.5]])\n",
        "#Số lần cần chạy trên hàng và cột của ma trận \n",
        "m = n - kernel.shape[0]+1 #"
      ],
      "execution_count": 2,
      "outputs": [
        {
          "output_type": "stream",
          "text": [
            "Kích thước của ma trận: \n",
            "3 \n",
            "Nhập dòng thứ 1\n",
            "7 2 4\n",
            "Nhập dòng thứ 2\n",
            "1 9 6\n",
            "Nhập dòng thứ 3\n",
            "3 0 5\n"
          ],
          "name": "stdout"
        }
      ]
    },
    {
      "cell_type": "markdown",
      "metadata": {
        "id": "DK3nJ1ERsrfI"
      },
      "source": [
        "# Cross Correlation"
      ]
    },
    {
      "cell_type": "code",
      "metadata": {
        "id": "kUH0YkDq-v8L",
        "outputId": "8e187e96-2fc4-4ef4-ba6c-162935640b4b",
        "colab": {
          "base_uri": "https://localhost:8080/"
        }
      },
      "source": [
        "def Cross_Correlation(matrix, kernel, m):\n",
        "  kq = np.zeros((n,n), dtype=object)\n",
        "  #vòng lặp chạy trên hàng j và cột j của ma trận\n",
        "  for i in range(m):\n",
        "    for j in range(m):\n",
        "      sum = 0\n",
        "      #chạy vòng lặp để thực hiện phép nhân giữa ma trận và kernel\n",
        "      for u in range(kernel.shape[0]):\n",
        "        for v in range(kernel.shape[1]):\n",
        "          a = matrix[u+i, v+j] \n",
        "          b = kernel[u,v]\n",
        "          sum += (a*b)\n",
        "      #lưu kết quả đã nhân vào ma trận mới\n",
        "      kq[i+1,j+1] = int(sum) \n",
        "  return np.array(kq)\n",
        "print(Cross_Correlation(matrix, kernel, m))\n"
      ],
      "execution_count": 3,
      "outputs": [
        {
          "output_type": "stream",
          "text": [
            "[[0 0 0]\n",
            " [0 7 0]\n",
            " [0 0 0]]\n"
          ],
          "name": "stdout"
        }
      ]
    },
    {
      "cell_type": "markdown",
      "metadata": {
        "id": "EfHU7ru_sSnY"
      },
      "source": [
        "# Convolution"
      ]
    },
    {
      "cell_type": "code",
      "metadata": {
        "id": "XzB1n2enr3Wd",
        "outputId": "3a4cdd0b-7d57-4a23-fd4a-680487645f9a",
        "colab": {
          "base_uri": "https://localhost:8080/"
        }
      },
      "source": [
        "def Convolution(matrix, kernel, m):\n",
        "  kq1 = np.zeros((n,n), dtype=object)\n",
        "  for i in range(m):\n",
        "    for j in range(m):\n",
        "      sum = 0\n",
        "      for u in range(kernel.shape[0]):\n",
        "        for v in range(kernel.shape[1]):\n",
        "          a = matrix[u+i, v+j]\n",
        "          b = kernel[-u-1,-v-1]\n",
        "          sum += (a*b)\n",
        "      kq1[i+1,j+1] = int(sum)\n",
        "  return np.array(kq1)\n",
        "print(Convolution(matrix, kernel, m))"
      ],
      "execution_count": 4,
      "outputs": [
        {
          "output_type": "stream",
          "text": [
            "[[0 0 0]\n",
            " [0 10 0]\n",
            " [0 0 0]]\n"
          ],
          "name": "stdout"
        }
      ]
    }
  ]
}