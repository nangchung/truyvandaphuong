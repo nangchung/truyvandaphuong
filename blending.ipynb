{
  "nbformat": 4,
  "nbformat_minor": 0,
  "metadata": {
    "colab": {
      "name": "blending.ipynb",
      "provenance": [],
      "collapsed_sections": [],
      "authorship_tag": "ABX9TyNMJ6jOQdqmGx/KneUdrRi6",
      "include_colab_link": true
    },
    "kernelspec": {
      "name": "python3",
      "display_name": "Python 3"
    }
  },
  "cells": [
    {
      "cell_type": "markdown",
      "metadata": {
        "id": "view-in-github",
        "colab_type": "text"
      },
      "source": [
        "<a href=\"https://colab.research.google.com/github/nangchung/truyvandaphuong/blob/main/blending.ipynb\" target=\"_parent\"><img src=\"https://colab.research.google.com/assets/colab-badge.svg\" alt=\"Open In Colab\"/></a>"
      ]
    },
    {
      "cell_type": "markdown",
      "metadata": {
        "id": "HHiTs_sjorov"
      },
      "source": [
        "import thư viện cần thiết"
      ]
    },
    {
      "cell_type": "code",
      "metadata": {
        "id": "SK9_ag6llHwb"
      },
      "source": [
        "import cv2\n",
        "import numpy as np\n",
        "from PIL import Image"
      ],
      "execution_count": 27,
      "outputs": []
    },
    {
      "cell_type": "markdown",
      "metadata": {
        "id": "cRSJyj53o02V"
      },
      "source": [
        "chuyển đổi định dạng ảnh từ png sang jpg"
      ]
    },
    {
      "cell_type": "code",
      "metadata": {
        "id": "tHA51TKjj0lB"
      },
      "source": [
        "import os, sys\n",
        "\n",
        "im = Image.open('/content/mask.png')\n",
        "bg = Image.new(\"RGB\", im.size, (255,255,255))\n",
        "bg.paste(im,im)\n",
        "bg.save(\"mask.jpg\")"
      ],
      "execution_count": 28,
      "outputs": []
    },
    {
      "cell_type": "markdown",
      "metadata": {
        "id": "QO6cx4GBo5tH"
      },
      "source": [
        "chuyển đổi từ jpg sang png"
      ]
    },
    {
      "cell_type": "code",
      "metadata": {
        "id": "edSLBShe-Mvk"
      },
      "source": [
        "im = Image.open('/content/fire.jpg')\n",
        "im.save('/content/fire.png')\n",
        "im = Image.open('/content/girl.jpg')\n",
        "im.save('/content/girl.png')"
      ],
      "execution_count": 38,
      "outputs": []
    },
    {
      "cell_type": "markdown",
      "metadata": {
        "id": "nvbZQscVpCJA"
      },
      "source": [
        "blend phần mask với fire"
      ]
    },
    {
      "cell_type": "code",
      "metadata": {
        "id": "_cgmpGgYKBj4"
      },
      "source": [
        "\n",
        "src = np.array(Image.open('/content/fire.jpg'))\n",
        "mask = np.array(Image.open('/content/mask.jpg').resize(src.shape[1::-1], Image.BILINEAR))\n",
        "#tính mask để được mask toàn 0 và 1\n",
        "mask =abs(((mask // 255)-1)/255)\n",
        "mask1 = abs((mask-1)*255)\n",
        "#nhân 2 ma trix để ghép 2 phần ảnh\n",
        "dst = src * mask\n",
        "dst1 = dst + mask1\n",
        "#ouput ra ảnh\n",
        "Image.fromarray(dst1.astype(np.uint8)).save('/content/output.jpg')"
      ],
      "execution_count": 30,
      "outputs": []
    },
    {
      "cell_type": "markdown",
      "metadata": {
        "id": "41J2WfwRpLs2"
      },
      "source": [
        "blen output trên với ảnh girl"
      ]
    },
    {
      "cell_type": "code",
      "metadata": {
        "id": "8oFm8NRThf9p",
        "outputId": "4b2ea823-a582-4f91-cd40-451e6110ac8e",
        "colab": {
          "base_uri": "https://localhost:8080/",
          "height": 34
        }
      },
      "source": [
        "\n",
        "src1 = cv2.imread('/content/girl.jpg')\n",
        "src2 = cv2.imread('/content/output.jpg')\n",
        "\n",
        "src2 = cv2.resize(src2, src1.shape[1::-1])\n",
        "\n",
        "out = cv2.addWeighted(src1, 0.5, src2,0.5, 0)\n",
        "\n",
        "cv2.imwrite('/content/out.jpg', out)\n"
      ],
      "execution_count": 37,
      "outputs": [
        {
          "output_type": "execute_result",
          "data": {
            "text/plain": [
              "True"
            ]
          },
          "metadata": {
            "tags": []
          },
          "execution_count": 37
        }
      ]
    }
  ]
}